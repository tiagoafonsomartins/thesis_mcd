{
 "cells": [
  {
   "cell_type": "markdown",
   "id": "5f85fa13",
   "metadata": {},
   "source": [
    "IAPMEI"
   ]
  },
  {
   "cell_type": "code",
   "execution_count": null,
   "id": "fd7ef942",
   "metadata": {},
   "outputs": [],
   "source": [
    "from sklearn.preprocessing import MinMaxScaler\n",
    "from sklearn.compose import ColumnTransformer\n",
    "\n",
    "import pandas as pd\n",
    "import seaborn as sn\n",
    "import matplotlib.pyplot as plt\n",
    "import numpy as np\n",
    "from IPython.display import display\n",
    "\n",
    "pd.set_option('display.float_format', lambda x: '%0.2f' % x)"
   ]
  },
  {
   "cell_type": "markdown",
   "id": "e8d52ba9",
   "metadata": {},
   "source": [
    "Registos encerrados/anulados pós-contrato"
   ]
  },
  {
   "cell_type": "code",
   "execution_count": null,
   "id": "54e96ce0",
   "metadata": {},
   "outputs": [],
   "source": [
    "closed = pd.read_csv(\"APPIeFACIE-Resposta.csv\", header = 0, encoding='latin-1')\n",
    "nulled = pd.read_csv(\"Anulações-Resposta.csv\", header = 0, encoding='latin-1')"
   ]
  },
  {
   "cell_type": "code",
   "execution_count": null,
   "id": "d5f6f811",
   "metadata": {},
   "outputs": [],
   "source": [
    "closed = closed[closed[\"Tipo\"] != \"PPI\"]"
   ]
  },
  {
   "cell_type": "code",
   "execution_count": null,
   "id": "93c67f96",
   "metadata": {},
   "outputs": [],
   "source": [
    "closed[\"Nproj_anon\"].nunique()"
   ]
  },
  {
   "cell_type": "code",
   "execution_count": null,
   "id": "d8f9c21f",
   "metadata": {},
   "outputs": [],
   "source": [
    "nulled[\"Nproj_anon\"].nunique()"
   ]
  },
  {
   "cell_type": "markdown",
   "id": "5e8ca629",
   "metadata": {},
   "source": [
    "# General statistics of the finished/annulled projects"
   ]
  },
  {
   "cell_type": "code",
   "execution_count": null,
   "id": "bc146733",
   "metadata": {},
   "outputs": [],
   "source": [
    "closed[\"Tipo\"].value_counts()"
   ]
  },
  {
   "cell_type": "code",
   "execution_count": null,
   "id": "5494ad7d",
   "metadata": {},
   "outputs": [],
   "source": [
    "closed.columns"
   ]
  },
  {
   "cell_type": "code",
   "execution_count": null,
   "id": "9a34041c",
   "metadata": {},
   "outputs": [],
   "source": [
    "nulled[\"Tipo\"].value_counts()"
   ]
  },
  {
   "cell_type": "code",
   "execution_count": null,
   "id": "8be278b9",
   "metadata": {},
   "outputs": [],
   "source": [
    "nulled.groupby(\"Tipo\")[\"Nproj_anon\"].count().to_frame()"
   ]
  },
  {
   "cell_type": "code",
   "execution_count": null,
   "id": "27a21a4c",
   "metadata": {},
   "outputs": [],
   "source": [
    "nulled[\"Motivo\"].value_counts().sum()"
   ]
  },
  {
   "cell_type": "code",
   "execution_count": null,
   "id": "243a780e",
   "metadata": {},
   "outputs": [],
   "source": [
    "nulled.columns"
   ]
  },
  {
   "cell_type": "code",
   "execution_count": null,
   "id": "b61b3fa4",
   "metadata": {},
   "outputs": [],
   "source": [
    "nulled[\"Nproj_anon\"].isna().sum()"
   ]
  },
  {
   "cell_type": "code",
   "execution_count": null,
   "id": "ceacf5ac",
   "metadata": {},
   "outputs": [],
   "source": [
    "nulled.groupby([\"Tipo\", \"Motivo\"])[\"Nproj_anon\"].count().to_frame()"
   ]
  },
  {
   "cell_type": "code",
   "execution_count": null,
   "id": "5fe2c7ac",
   "metadata": {},
   "outputs": [],
   "source": [
    "nulled[(nulled[\"Tipo\"] == \"Anulação pós-contrato\") & (nulled[\"Motivo\"].isna())][\"Nproj_anon\"].nunique()"
   ]
  },
  {
   "cell_type": "markdown",
   "id": "ffd620c7",
   "metadata": {},
   "source": [
    "### Filter data based on type of closure and annulment\n",
    "\n",
    "All but \"desistência do promotor\" should be chosen"
   ]
  },
  {
   "cell_type": "code",
   "execution_count": null,
   "id": "a848b635",
   "metadata": {},
   "outputs": [],
   "source": [
    "nulled[\"Motivo\"].value_counts()"
   ]
  },
  {
   "cell_type": "code",
   "execution_count": null,
   "id": "85419bb2",
   "metadata": {},
   "outputs": [],
   "source": [
    "closed = closed[(closed[\"Tipo\"] == \"ENCINV\") |\n",
    "                (closed[\"Tipo\"] == \"ENCPRJ\")]\n",
    "nulled = nulled[(nulled[\"Tipo\"] == \"Anulação pós-contrato\") &\n",
    "               (nulled[\"Motivo\"] != \"Desistência do promotor\")]"
   ]
  },
  {
   "cell_type": "code",
   "execution_count": null,
   "id": "c361c02f",
   "metadata": {},
   "outputs": [],
   "source": [
    "closed[\"Nproj_anon\"].nunique()"
   ]
  },
  {
   "cell_type": "code",
   "execution_count": null,
   "id": "e55ab525",
   "metadata": {},
   "outputs": [],
   "source": [
    "nulled[(nulled[\"Tipo\"] == \"Anulação pós-contrato\") &\n",
    "               (nulled[\"Motivo\"] != \"Desistência do promotor\")]"
   ]
  },
  {
   "cell_type": "markdown",
   "id": "320e7b80",
   "metadata": {},
   "source": [
    "### Number of projects for each class of target feature\n",
    "\n",
    "1. Closed\n",
    "1. Cancelled"
   ]
  },
  {
   "cell_type": "code",
   "execution_count": null,
   "id": "08344004",
   "metadata": {},
   "outputs": [],
   "source": [
    "print(closed[\"Nproj_anon\"].nunique())\n",
    "print(nulled[\"Nproj_anon\"].nunique())"
   ]
  },
  {
   "cell_type": "code",
   "execution_count": null,
   "id": "636a2a0a",
   "metadata": {},
   "outputs": [],
   "source": [
    "projects = closed[\"Nproj_anon\"].unique()\n",
    "projects = np.append(projects, nulled[\"Nproj_anon\"].unique())"
   ]
  },
  {
   "cell_type": "code",
   "execution_count": null,
   "id": "616ae355",
   "metadata": {},
   "outputs": [],
   "source": [
    "len(projects)"
   ]
  },
  {
   "cell_type": "code",
   "execution_count": null,
   "id": "2f68f979",
   "metadata": {},
   "outputs": [],
   "source": [
    "len(np.unique(projects))"
   ]
  },
  {
   "cell_type": "markdown",
   "id": "4755b95b",
   "metadata": {},
   "source": [
    "# Treating the several files to then merge in a final dataset"
   ]
  },
  {
   "cell_type": "code",
   "execution_count": null,
   "id": "ad911184",
   "metadata": {},
   "outputs": [],
   "source": [
    "folder = \"dados/\""
   ]
  },
  {
   "cell_type": "code",
   "execution_count": null,
   "id": "b3727d42",
   "metadata": {},
   "outputs": [],
   "source": [
    "application = pd.read_csv(folder+\"candidaturas/Geral_candidaturas.csv\", encoding='latin-1')\n",
    "invoice = pd.read_csv(folder+\"facie/Facturas_facie.csv\", encoding='latin-1')\n",
    "worker = pd.read_csv(folder+\"ptcand/PTrabalho_candidaturas.csv\", encoding='latin-1')\n",
    "expenditure = pd.read_csv(folder+\"appi/Inv_appi.csv\", encoding='utf-8')\n",
    "financing = pd.read_csv(folder+\"candidaturas/Financ_candidaturas.csv\", encoding='utf-8')\n",
    "esf = pd.read_csv(folder+\"candidaturas/FSE_candidaturas.csv\", encoding='utf-8')\n",
    "\n",
    "ies_1 = pd.read_csv(folder+\"ies/ies_prom_coletivos_selected_1.csv\", encoding='utf-8')\n",
    "ies_2 = pd.read_csv(folder+\"ies/ies_prom_coletivos_selected_2.csv\", encoding='utf-8')\n",
    "ies_3 = pd.read_csv(folder+\"ies/ies_prom_singulares.csv\", encoding='utf-8')"
   ]
  },
  {
   "cell_type": "code",
   "execution_count": null,
   "id": "33a755f0",
   "metadata": {},
   "outputs": [],
   "source": [
    "application[\"N_Proj_anon\"].nunique()"
   ]
  },
  {
   "cell_type": "code",
   "execution_count": null,
   "id": "6a4541de",
   "metadata": {},
   "outputs": [],
   "source": [
    "application[application[\"N_Proj_anon\"].isin(projects)][\"N_Proj_anon\"].nunique()\n"
   ]
  },
  {
   "cell_type": "code",
   "execution_count": null,
   "id": "1bf8906b",
   "metadata": {},
   "outputs": [],
   "source": [
    "ies_3[ies_3[\"N_Proj_anon\"].isin(projects)]"
   ]
  },
  {
   "cell_type": "code",
   "execution_count": null,
   "id": "b88e842e",
   "metadata": {},
   "outputs": [],
   "source": [
    "# add the features related to INE\n",
    "ginind = pd.read_excel(\"INE/ginind.xlsx\")\n",
    "estemp = pd.read_excel(\"INE/estemp.xlsx\")\n",
    "denpop = pd.read_excel(\"INE/denpop.xlsx\")\n",
    "uninut = pd.read_excel(\"INE/uninut.xlsx\")\n",
    "empres = pd.read_excel(\"INE/empres.xlsx\")\n",
    "renmed = pd.read_excel(\"INE/renmed.xlsx\")\n",
    "desemp = pd.read_excel(\"INE/desemp.xlsx\")\n",
    "pobrez = pd.read_excel(\"INE/pobrez.xlsx\")\n",
    "nuts2_match = pd.read_excel(\"NUTS_v3.xlsx\")"
   ]
  },
  {
   "cell_type": "code",
   "execution_count": null,
   "id": "93734980",
   "metadata": {},
   "outputs": [],
   "source": [
    "application = application.merge(nuts2_match, left_on=\"Promotor/Distrito_D\", right_on=\"Distrito\", how=\"left\")\n",
    "application = application.merge(nuts2_match, left_on=\"Resumo/Distrito_D\", right_on=\"Distrito\", how=\"left\")\n",
    "application = application.rename(columns={\"NUTS II_x\": \"nuts_ii_sede\", \"NUTS II_y\": \"nuts_ii_op\"})\n",
    "\n",
    "# FAZER O APPLICATION MERGE COM DADOS INE\n",
    "application = application.merge(ginind[[\"NUTS II\", \"median\"]], left_on=\"nuts_ii_sede\", right_on=\"NUTS II\", how=\"left\").rename(columns={\"median\": \"Gini_NUTS_prom\"})\n",
    "application = application.merge(estemp[[\"NUTS II\", \"median\"]], left_on=\"nuts_ii_sede\", right_on=\"NUTS II\", how=\"left\").rename(columns={\"median\": \"estemp\"})\n",
    "application = application.merge(denpop[[\"NUTS II\", \"median\"]], left_on=\"nuts_ii_sede\", right_on=\"NUTS II\", how=\"left\").rename(columns={\"median\": \"densidade_pop_NUTS_prom\"})\n",
    "application = application.merge(uninut[[\"NUTS II\", \"median\"]], left_on=\"nuts_ii_sede\", right_on=\"NUTS II\", how=\"left\").rename(columns={\"median\": \"Rede_Universitaria_distrito\"})\n",
    "application = application.merge(empres[[\"NUTS II\", \"median\"]], left_on=\"nuts_ii_sede\", right_on=\"NUTS II\", how=\"left\").rename(columns={\"median\": \"n_pme_NUTS_prom\"})\n",
    "application = application.merge(renmed[[\"NUTS II\", \"median\"]], left_on=\"nuts_ii_sede\", right_on=\"NUTS II\", how=\"left\").rename(columns={\"median\": \"remuneracao_mensal_media_NUTS_prom\"})\n",
    "application = application.merge(desemp[[\"NUTS II\", \"median\"]], left_on=\"nuts_ii_sede\", right_on=\"NUTS II\", how=\"left\").rename(columns={\"median\": \"Tx_desemp_NUTS_prom\"})\n",
    "application = application.merge(pobrez[[\"NUTS II\", \"median\"]], left_on=\"nuts_ii_sede\", right_on=\"NUTS II\", how=\"left\").rename(columns={\"median\": \"Risco_pobreza_NUTS_prom\"})\n",
    "\n",
    "\n",
    "application[\"mesma_sede_nuts_ii\"] = np.where(application['nuts_ii_sede'].astype(str).reset_index(drop=True).eq(application['nuts_ii_op'].astype(str).reset_index(drop=True)), 1, 0)#np.where(application['nuts_ii_sede'].astype(str) == application['nuts_ii_op'].astype(str), 1, 0)#np.select(conditions, values, default=0)"
   ]
  },
  {
   "cell_type": "code",
   "execution_count": null,
   "id": "2ceceef1",
   "metadata": {},
   "outputs": [],
   "source": [
    "# Business rule - VER MAIPRO NOVO MAP:\n",
    "#Escolher a data mais antiga entre Promotor/Dt_Const\n",
    "# e Promotor/Dt_Inicio_Act 1 se Parametros/Ano_Cand\n",
    "# de candidaturas_geral - o ano de abertura_atividade_prom_cand for <= 4,\n",
    "# nulo se um dos campos for nulo, 0 c.c.\n",
    "\n",
    "# date format: dd-mm-yyyy\n",
    "\n",
    "# function to correct problems with dates\n",
    "def correct_year(year):\n",
    "    if year > pd.datetime.now().year:\n",
    "        year = year - 100\n",
    "    return year\n",
    "\n",
    "application[\"Promotor/Dt_Inicio_Act\"] = pd.to_datetime(application['Promotor/Dt_Inicio_Act'],  dayfirst=True, format=\"%d-%m-%y\", errors=\"coerce\").dt.year\n",
    "application[\"Promotor/Dt_Inicio_Act\"] = application[\"Promotor/Dt_Inicio_Act\"].apply(correct_year)\n",
    "application[\"Promotor/Dt_Const\"] = pd.to_datetime(application['Promotor/Dt_Const'], dayfirst=True, format=\"%d-%m-%y\", errors=\"coerce\").dt.year\n",
    "application[\"Promotor/Dt_Const\"] = application[\"Promotor/Dt_Const\"].apply(correct_year)\n",
    "\n",
    "application[\"older_date\"] = application[['Promotor/Dt_Inicio_Act', 'Promotor/Dt_Const']].min(axis=1)\n",
    "application[\"older_date_vs_4years\"] = (application[\"Parametros/Ano_Cand\"] - application['older_date'])\n",
    "\n",
    "\n",
    "# Validate how to populate final date field using set of conditions, based on initial business rules\n",
    "conditions = [\n",
    "    (application['Promotor/Dt_Inicio_Act'].isnull()) |\n",
    "    (application['Promotor/Dt_Const'].isnull()) |\n",
    "    (application[\"Parametros/Ano_Cand\"].isnull()),  # Condition for null values\n",
    "    (application['older_date_vs_4years'] <= 4)  # Condition for year difference less than or equal to 4\n",
    "]\n",
    "values = [np.nan, 1]\n",
    "application[\"emp_menos_4_anos_cand\"] = np.select(conditions, values, default=0)"
   ]
  },
  {
   "cell_type": "code",
   "execution_count": null,
   "id": "e31c44de",
   "metadata": {},
   "outputs": [],
   "source": [
    "application[\"emp_menos_4_anos_cand\"]"
   ]
  },
  {
   "cell_type": "code",
   "execution_count": null,
   "id": "8c67019c",
   "metadata": {},
   "outputs": [],
   "source": [
    "invoice = invoice.rename(columns={\"ANON_Nproj\": \"N_Proj_anon\", \"N_Doc\": \"proj_investimento\"})\n",
    "invoice[invoice[\"N_Proj_anon\"].isin(projects)][\"N_Proj_anon\"].nunique()"
   ]
  },
  {
   "cell_type": "code",
   "execution_count": null,
   "id": "f799030f",
   "metadata": {},
   "outputs": [],
   "source": [
    "# Business rule - VER MAIPRO NOVO MAP:\n",
    "# Só foram selecionadas as linhas do último N_Doc; \n",
    "# só foram selecionadas as linhas onde C_An é diferente de \"X\",\n",
    "# incluindo os nulos;  só foram selecionadas as linhas onde Tipo é \"FT\" ou \"VE\" ou \"CL\"\n",
    "\n",
    "valid_inv_type = [\"FT\", \"VE\", \"CL\"]\n",
    "invoice = invoice[(invoice[\"C_An\"] != \"X\") |\n",
    "       (invoice[\"C_An\"].isna()) |\n",
    "       (invoice[\"Tipo\"].isin(valid_inv_type))].groupby(\"N_Proj_anon\").max([\"proj_investimento\"])[\"Desp_Inv\"].to_frame()"
   ]
  },
  {
   "cell_type": "code",
   "execution_count": null,
   "id": "f98a5335",
   "metadata": {},
   "outputs": [],
   "source": [
    "worker = worker.rename(columns={\"ANON_N_proj\": \"N_Proj_anon\", \"N_Linha\": \"N_trabalhadores\"})"
   ]
  },
  {
   "cell_type": "code",
   "execution_count": null,
   "id": "32b182a0",
   "metadata": {},
   "outputs": [],
   "source": [
    "worker[worker[\"N_Proj_anon\"].isin(projects)][\"N_Proj_anon\"].nunique()"
   ]
  },
  {
   "cell_type": "code",
   "execution_count": null,
   "id": "0c6241b5",
   "metadata": {},
   "outputs": [],
   "source": [
    "worker.columns"
   ]
  },
  {
   "cell_type": "code",
   "execution_count": null,
   "id": "e7761f1e",
   "metadata": {},
   "outputs": [],
   "source": [
    "n_workers = worker.groupby(\"N_Proj_anon\")[\"N_trabalhadores\"].count().to_frame()"
   ]
  },
  {
   "cell_type": "code",
   "execution_count": null,
   "id": "a0a4283b",
   "metadata": {},
   "outputs": [],
   "source": [
    "financing[financing[\"N_Proj_anon\"].isin(projects)][\"N_Proj_anon\"].nunique()"
   ]
  },
  {
   "cell_type": "code",
   "execution_count": null,
   "id": "0f2e369d",
   "metadata": {},
   "outputs": [],
   "source": [
    "financing.columns"
   ]
  },
  {
   "cell_type": "code",
   "execution_count": null,
   "id": "59ec3e67",
   "metadata": {},
   "outputs": [],
   "source": [
    "WeightCP = [1, 91]\n",
    "WeightSelfFinance = [2, 91]\n",
    "WeightRandomCapital = [4, 407, 408, 91]\n",
    "WeightPartners = [403, 102, 91]\n",
    "WeightTotal = [407, 408, 91 ]\n",
    "WeightReimbursed = [40701, 91]\n",
    "PercEligibility = [92, 91]\n",
    "\n",
    "\n",
    "cols_sum = ['Val_P1', 'Val_0', 'Val_1', 'Val_2', 'Val_3', 'Val_4', 'Val_5', 'Val_6', 'Val_7']"
   ]
  },
  {
   "cell_type": "code",
   "execution_count": null,
   "id": "7cdd1c1c",
   "metadata": {},
   "outputs": [],
   "source": [
    "total_fin = financing[financing['Rubrica'] == 91].groupby(\"N_Proj_anon\")[cols_sum].sum().T.sum().to_frame().reset_index()\n",
    "total_fin = total_fin.rename(columns={0: \"total\"})\n",
    "\n",
    "rub_1 = financing[((financing['Rubrica'] == 1))].groupby(\"N_Proj_anon\")[cols_sum].sum().T.sum().to_frame().reset_index()\n",
    "rub_1 = rub_1.rename(columns={0: \"rubrica_1\"})\n",
    "\n",
    "rub_2 = financing[((financing['Rubrica'] == 2))].groupby(\"N_Proj_anon\")[cols_sum].sum().T.sum().to_frame().reset_index()\n",
    "rub_2 = rub_2.rename(columns={0: \"rubrica_2\"})\n",
    "\n",
    "rub_4 = financing[((financing['Rubrica'] == 4))].groupby(\"N_Proj_anon\")[cols_sum].sum().T.sum().to_frame().reset_index()\n",
    "rub_4 = rub_4.rename(columns={0: \"rubrica_4\"})\n",
    "\n",
    "rub_407 = financing[((financing['Rubrica'] == 408))].groupby(\"N_Proj_anon\")[cols_sum].sum().T.sum().to_frame().reset_index()\n",
    "rub_407 = rub_407.rename(columns={0: \"rubrica_408\"})\n",
    "\n",
    "rub_408 = financing[((financing['Rubrica'] == 407))].groupby(\"N_Proj_anon\")[cols_sum].sum().T.sum().to_frame().reset_index()\n",
    "rub_408 = rub_408.rename(columns={0: \"rubrica_407\"})\n",
    "\n",
    "rub_403_102 = financing[((financing['Rubrica'] == 403) | (financing['Rubrica'] == 102))].groupby(\"N_Proj_anon\")[cols_sum].sum().T.sum().to_frame().reset_index()\n",
    "rub_403_102 = rub_403_102.rename(columns={0: \"rubrica_403_102\"})\n",
    "\n",
    "rub_40701 = financing[((financing['Rubrica'] == 40701))].groupby(\"N_Proj_anon\")[cols_sum].sum().T.sum().to_frame().reset_index()\n",
    "rub_40701 = rub_40701.rename(columns={0: \"rubrica_40701\"})\n",
    "\n",
    "rub_92 = financing[((financing['Rubrica'] == 92))].groupby(\"N_Proj_anon\")[cols_sum].sum().T.sum().to_frame().reset_index()\n",
    "rub_92 = rub_92.rename(columns={0: \"rubrica_92\"})\n",
    "\n",
    "financing_rubricas = total_fin.merge(rub_1, on=\"N_Proj_anon\", how=\"left\")\n",
    "financing_rubricas = financing_rubricas.merge(rub_2, on=\"N_Proj_anon\", how=\"left\")\n",
    "financing_rubricas = financing_rubricas.merge(rub_4, on=\"N_Proj_anon\", how=\"left\")\n",
    "financing_rubricas = financing_rubricas.merge(rub_407, on=\"N_Proj_anon\", how=\"left\")\n",
    "financing_rubricas = financing_rubricas.merge(rub_408, on=\"N_Proj_anon\", how=\"left\")\n",
    "financing_rubricas = financing_rubricas.merge(rub_403_102, on=\"N_Proj_anon\", how=\"left\")\n",
    "financing_rubricas = financing_rubricas.merge(rub_40701, on=\"N_Proj_anon\", how=\"left\")\n",
    "financing_rubricas = financing_rubricas.merge(rub_92, on=\"N_Proj_anon\", how=\"left\")"
   ]
  },
  {
   "cell_type": "code",
   "execution_count": null,
   "id": "12310771",
   "metadata": {},
   "outputs": [],
   "source": [
    "total_fin"
   ]
  },
  {
   "cell_type": "code",
   "execution_count": null,
   "id": "568a2ee3",
   "metadata": {},
   "outputs": [],
   "source": [
    "#selecionar rubricas 1 e 91, somar todos os valores Total = Financ_candidaturas['Val_P1']\n",
    "# + Financ_candidaturas['Val_0'] + Financ_candidaturas['Val_1'] + Financ_candidaturas['Val_2'] \n",
    "# + Financ_candidaturas['Val_3'] + Financ_candidaturas['Val_4'] + Financ_candidaturas['Val_5'] \n",
    "# + Financ_candidaturas['Val_6'] + Financ_candidaturas['Val_7'] 1 /91\n",
    "financing_rubricas[\"PesoCP\"] = financing_rubricas[\"rubrica_1\"]/financing_rubricas[\"total\"]\n",
    "\n",
    "#selecionar rubricas 2 e 91, somar todos os valores Total = Financ_candidaturas['V al_P1']\n",
    "#+ Financ_candidaturas['V al_0'] + Financ_candidaturas['V al_1'] + Financ_candidaturas['V al_2']\n",
    "#+ Financ_candidaturas['V al_3'] + Financ_candidaturas['V al_4'] + Financ_candidaturas['V al_5'] \n",
    "#+ Financ_candidaturas['V al_6'] + Financ_candidaturas['V al_7'] 2/91\n",
    "financing_rubricas[\"PesoAutofinanciamento\"] = financing_rubricas[\"rubrica_2\"]/financing_rubricas[\"total\"]\n",
    "\n",
    "#selecionar rubricas 4, 407, 408 e 91, somar todos os valores Total = Financ_candidaturas['V al_P1']\n",
    "#+ Financ_candidaturas['V al_0'] + Financ_candidaturas['V al_1'] + Financ_candidaturas['V al_2'] \n",
    "#+ Financ_candidaturas['V al_3'] + Financ_candidaturas['V al_4'] + Financ_candidaturas['V al_5'] \n",
    "#+ Financ_candidaturas['V al_6'] + Financ_candidaturas['V al_7'] se existir valor do 408: (4 - 408)/91; \n",
    "#    caso contrário: (4 - 407)/91\n",
    "# Validate how to populate final date field using set of conditions, based on initial business rules\n",
    "conditions = [\n",
    "    ~(financing_rubricas['rubrica_408'].isnull())  # Condition for year difference less than or equal to 4\n",
    "]\n",
    "values = [(financing_rubricas[\"rubrica_4\"] - financing_rubricas['rubrica_408'])/financing_rubricas[\"total\"]]\n",
    "financing_rubricas[\"PesoCapitais Alheios\"] = np.select(conditions, values,\n",
    "                                                       default=(financing_rubricas[\"rubrica_4\"] - financing_rubricas['rubrica_407'])/financing_rubricas[\"total\"])\n",
    "        \n",
    "#selecionar rubricas 403, 102 e 91, somar todos os valores Total = Financ_candidaturas['Val_P1']\n",
    "#+ Financ_candidaturas['V al_0'] + Financ_candidaturas['V al_1'] + Financ_candidaturas['V al_2']\n",
    "#+ Financ_candidaturas['V al_3'] + Financ_candidaturas['V al_4'] + Financ_candidaturas['V al_5']\n",
    "#+ Financ_candidaturas['V al_6'] + Financ_candidaturas['V al_7'] (403 + 102)/91\n",
    "financing_rubricas[\"Peso dos Sócios\"] = (financing_rubricas[\"rubrica_403_102\"])/financing_rubricas[\"total\"]\n",
    "\n",
    "\n",
    "\n",
    "#\"selecionar rubricas 407, 408 e 91, somar todos os valores Total =Financ_candidaturas['Val_P1']\n",
    "#+ Financ_candidaturas['Val_0'] + Financ_candidaturas['Val_1'] + Financ_candidaturas['Val_2']\n",
    "#+ Financ_candidaturas['Val_3'] + Financ_candidaturas['Val_4'] + Financ_candidaturas['Val_5']\n",
    "#+ Financ_candidaturas['Val_6'] + Financ_candidaturas['Val_7'] se existir valor do 408: 408/91; caso contrário: 407/91\"\n",
    "conditions = [\n",
    "    ~(financing_rubricas['rubrica_408'].isnull())  # Condition for year difference less than or equal to 4\n",
    "]\n",
    "values = [financing_rubricas['rubrica_408']/financing_rubricas[\"total\"]]\n",
    "financing_rubricas[\"Peso Incentivo Total\"] = np.select(conditions, values,\n",
    "                                                       default=financing_rubricas['rubrica_407']/financing_rubricas[\"total\"])\n",
    " \n",
    "#selecionar rubricas 40701 e 91, somar todos os valores Total = Financ_candidaturas['V al_P1']\n",
    "#+ Financ_candidaturas['V al_0'] + Financ_candidaturas['V al_1'] + Financ_candidaturas['V al_2']\n",
    "#+ Financ_candidaturas['V al_3'] + Financ_candidaturas['V al_4'] + Financ_candidaturas['V al_5']\n",
    "#+ Financ_candidaturas['V al_6'] + Financ_candidaturas['V al_7'] 40701/91\n",
    "financing_rubricas[\"Peso Incentivo N Reembolsável\"] = financing_rubricas[\"rubrica_40701\"]/financing_rubricas[\"total\"]\n",
    "\n",
    "\n",
    "#\"selecionar rubricas 92 e 91, somar todos os valores Total = Financ_candidaturas['V al_P1']\n",
    "#+ Financ_candidaturas['V al_0'] + Financ_candidaturas['V al_1'] +Financ_candidaturas['Val_2']\n",
    "#+ Financ_candidaturas['Val_3'] + Financ_candidaturas['Val_4'] + Financ_candidaturas['Val_5'] \n",
    "#+ Financ_candidaturas['Val_6'] + Financ_candidaturas['Val_7'] 92/91\"\n",
    "\n",
    "\n",
    "financing_rubricas[\"%elegibilidade\"] = financing_rubricas[\"rubrica_92\"]/financing_rubricas[\"total\"]\n",
    "\n",
    "\n",
    "\n",
    "#se algum dos rácios for superior a 1 então 1, caso contrário 0\n",
    "conditions = [\n",
    "    (financing_rubricas[\"PesoCP\"] > 1) |\n",
    "    (financing_rubricas[\"PesoAutofinanciamento\"] > 1) |\n",
    "    (financing_rubricas[\"PesoCapitais Alheios\"] > 1) |\n",
    "    (financing_rubricas[\"Peso dos Sócios\"] > 1) |\n",
    "    (financing_rubricas[\"Peso Incentivo Total\"] > 1) |\n",
    "    (financing_rubricas[\"Peso Incentivo N Reembolsável\"] > 1) |\n",
    "    (financing_rubricas[\"%elegibilidade\"] > 1)\n",
    "]\n",
    "values = [1]\n",
    "financing_rubricas[\"erros_racios_inv\"] = np.select(conditions, values, default=0)\n",
    "\n",
    "\n",
    "\n",
    "financing_weights = [\"PesoCP\", \"PesoAutofinanciamento\", \"PesoCapitais Alheios\", \"Peso dos Sócios\", \"Peso Incentivo Total\", \"Peso Incentivo N Reembolsável\", \"%elegibilidade\", \"erros_racios_inv\"]\n",
    "financing_rubricas[financing_weights] = financing_rubricas[financing_weights].fillna(0)\n",
    "financing_weights.append(\"N_Proj_anon\")"
   ]
  },
  {
   "cell_type": "code",
   "execution_count": null,
   "id": "fea6b560",
   "metadata": {},
   "outputs": [],
   "source": [
    "esf[esf[\"N_Proj_anon\"].isin(projects)][\"N_Proj_anon\"].nunique()"
   ]
  },
  {
   "cell_type": "code",
   "execution_count": null,
   "id": "f10b1c3b",
   "metadata": {},
   "outputs": [],
   "source": [
    "esf"
   ]
  },
  {
   "cell_type": "code",
   "execution_count": null,
   "id": "fdbe0c9b",
   "metadata": {},
   "outputs": [],
   "source": [
    "# Business Rules\n",
    "# Selecionar apenas as linhas onde Id é 90\n",
    "# Agregar por projeto e somar os valores de Val_Calc,\n",
    "# preencher os nulos com 0, usar o QuantileTransformer (normaliza os dados entre 0 e 1)\n",
    "valor_formacoes = esf[esf[\"Id\"] == \"90\"].groupby(\"N_Proj_anon\")[\"Val_Calc\"].sum().to_frame()\n",
    "valor_formacoes = valor_formacoes.rename(columns={\"Val_Calc\": \"valor_formacoes\"})"
   ]
  },
  {
   "cell_type": "code",
   "execution_count": null,
   "id": "61c48c42",
   "metadata": {},
   "outputs": [],
   "source": []
  },
  {
   "cell_type": "code",
   "execution_count": null,
   "id": "28b99c6b",
   "metadata": {},
   "outputs": [],
   "source": [
    "expenditure[expenditure[\"N_Proj_anon\"].isin(projects)][\"N_Proj_anon\"].nunique()"
   ]
  },
  {
   "cell_type": "code",
   "execution_count": null,
   "id": "313bc0f1",
   "metadata": {},
   "outputs": [],
   "source": [
    "expenditure[\"Classe\"].dtype"
   ]
  },
  {
   "cell_type": "code",
   "execution_count": null,
   "id": "aa500dec",
   "metadata": {},
   "outputs": [],
   "source": [
    "expenditure[\"N_Proj_anon\"].nunique()"
   ]
  },
  {
   "cell_type": "code",
   "execution_count": null,
   "id": "16773e17",
   "metadata": {},
   "outputs": [],
   "source": [
    "total_proj = expenditure.groupby('N_Proj_anon', as_index=False).agg({'N_Proj_anon': 'first', 'Investimento': 'sum'})\n",
    "total_proj = total_proj.rename(columns={\"Investimento\": \"total\"})\n",
    "display(total_proj)"
   ]
  },
  {
   "cell_type": "code",
   "execution_count": null,
   "id": "38de60be",
   "metadata": {},
   "outputs": [],
   "source": [
    "# Alterado a 15/9 para refletir correção vista\n",
    "soft = [230,120] # tipodesp_Software_Equipamentos_Informaticos\n",
    "cons = [411,412] # tipodesp_Construcao-Remodelacao_Edificios\n",
    "stud = [331,335,334,332,320,220,333] # tipodesp_Estudos_Diagnosticos_Licencas_ServicosEngenharia\n",
    "mach = [110] # tipodesp_Maquinas_Equipamentos\n",
    "#default - tipodesp_Outras Despesas"
   ]
  },
  {
   "cell_type": "code",
   "execution_count": null,
   "id": "2f63408e",
   "metadata": {},
   "outputs": [],
   "source": [
    "conditions = [expenditure[\"Classe\"].isin(soft),\n",
    "             expenditure[\"Classe\"].isin(cons),\n",
    "             expenditure[\"Classe\"].isin(stud),\n",
    "             expenditure[\"Classe\"].isin(mach)]\n",
    "\n",
    "values = [1, 2, 3, 4]\n",
    "expenditure[\"tipo_desp\"] = np.select(conditions, values, default=9)\n",
    "\n",
    "tipo_desp = expenditure.groupby([\"N_Proj_anon\", \"tipo_desp\"], as_index=False). \\\n",
    "                                    agg({'N_Proj_anon': 'first', 'tipo_desp' : \"first\", 'Investimento': 'sum'}). \\\n",
    "                                    merge(total_proj, on=\"N_Proj_anon\")\n",
    "\n",
    "tipo_desp[\"%do total\"] = (tipo_desp[\"Investimento\"]/tipo_desp[\"total\"]).round(2)\n",
    "\n",
    "display(tipo_desp)\n",
    "tipo_desp = pd.pivot_table(tipo_desp, values = [\"Investimento\", \"%do total\", \"total\"], index=[\"N_Proj_anon\"], columns = ['tipo_desp']).reset_index()\n"
   ]
  },
  {
   "cell_type": "code",
   "execution_count": null,
   "id": "b9729211",
   "metadata": {},
   "outputs": [],
   "source": [
    "tipo_desp.columns = [''.join(str(col)) for col in tipo_desp.columns.values]\n",
    "new_cols = {\"('N_Proj_anon', '')\": \"N_Proj_anon\",\n",
    "\"('%do total', 1)\": \"tipodesp_Software_Equipamentos_Informaticos\",\n",
    "\"('%do total', 2)\": \"tipodesp_Construcao-Remodelacao_Edificios\",\n",
    "\"('%do total', 3)\": \"tipodesp_Estudos_Diagnosticos_Licencas_ServicosEngenharia\",\n",
    "\"('%do total', 4)\": \"tipodesp_Maquinas_Equipamentos\",\n",
    "\"('%do total', 9)\": \"tipodesp_Outras Despesas\",\n",
    "\"('Investimento', 1)\": \"despesa_total_Software_Equipamentos_Informaticos\",\n",
    "\"('Investimento', 2)\": \"despesa_total_Construcao/Remodelacao_Edificios\",\n",
    "\"('Investimento', 3)\": \"despesa_total_Estudos_Diagnosticos_Licencas_ServicosEngenharia\",\n",
    "\"('Investimento', 4)\": \"despesa_total_Maquinas_Equipamentos\",\n",
    "\"('Investimento', 9)\": \"despesa_total_Outras Despesas\",\n",
    "\"('total', 1)\": \"total\"}\n",
    "\n",
    "cols_drop = [\"('total', 2)\",\"('total', 3)\",\"('total', 4)\",\"('total', 9)\"]\n",
    "tipo_desp = tipo_desp.drop(cols_drop, axis=1)\n",
    "tipo_desp = tipo_desp.rename(columns=new_cols)\n",
    "display(tipo_desp)\n",
    "tipo_desp = tipo_desp.fillna(0)"
   ]
  },
  {
   "cell_type": "code",
   "execution_count": null,
   "id": "f7e22877",
   "metadata": {},
   "outputs": [],
   "source": [
    "ies = pd.concat([ies_1, ies_2], ignore_index=True)\n",
    "#display(ies)\n",
    "ies[\"_5001_VENDAS_SERVICOS_PRESTADOS\"] = ies[\"_5001_VENDAS_SERVICOS_PRESTADOS\"].fillna(0)\n",
    "#ies[ies[\"_5001_VENDAS_SERVICOS_PRESTADOS\"] < 0][\"_5001_VENDAS_SERVICOS_PRESTADOS\"] = 0\n",
    "\n",
    "vol_negocios = ies.groupby(\"NIF_anon\").agg({'NIF_anon': 'first', \"_5001_VENDAS_SERVICOS_PRESTADOS\": 'mean'}).reset_index(drop=True)#.groupby(\"NIF_anon\")[\"_5001_VENDAS_SERVICOS_PRESTADOS\"].median().to_frame()\n",
    "vol_negocios = vol_negocios.rename(columns={\"_5001_VENDAS_SERVICOS_PRESTADOS\": \"prom_vol_negocio_med_anual\"})\n",
    "ies = ies.merge(vol_negocios, how=\"left\", on=\"NIF_anon\")\n",
    "\n",
    "\n",
    "ies = ies.rename(columns={\"NIF_anon\": \"NIF_Prom_anon\"})\n",
    "ies = ies.merge(application[[\"N_Proj_anon\",\n",
    "                             \"Parametros/Ano_Cand\",\n",
    "                             \"NIF_Prom_anon\",\n",
    "                             \"Dadosprojecto/Investimento\"]],\n",
    "                                how=\"left\", on=\"NIF_Prom_anon\")\n",
    "\n",
    "\n",
    "ies[\"nif_ano\"] = ies[\"NIF_Prom_anon\"].astype(str).str.cat(ies[\"ANO_EXERCICIO\"].astype(str).str).astype(float) \n",
    "display(ies[ies[\"N_Proj_anon\"] == 595796][[\"N_Proj_anon\", \"Parametros/Ano_Cand\", \"ANO_EXERCICIO\", \"nif_ano\", \"prom_vol_negocio_med_anual\"]])\n",
    "\n",
    "#display(ies[ies[\"NIF_Prom_anon\"] == 276681390][[\"N_Proj_anon\", \"Parametros/Ano_Cand\", \"ANO_EXERCICIO\", \"nif_ano\", \"prom_vol_negocio_med_anual\"]])\n",
    "ies = ies.drop_duplicates(subset=[\"N_Proj_anon\", \"nif_ano\"]).reset_index(drop = True)\n",
    "#display(ies[ies[\"NIF_Prom_anon\"] == 276681390][[\"N_Proj_anon\", \"Parametros/Ano_Cand\", \"ANO_EXERCICIO\", \"nif_ano\", \"prom_vol_negocio_med_anual\"]])\n",
    "display(ies[ies[\"N_Proj_anon\"] == 595796][[\"N_Proj_anon\", \"Parametros/Ano_Cand\", \"ANO_EXERCICIO\", \"nif_ano\", \"prom_vol_negocio_med_anual\"]])\n",
    "\n",
    "\n",
    "\n",
    "ies[\"_5127_ATIVO_TOTAL\"] = ies[\"_5127_ATIVO_TOTAL\"].fillna(0)\n",
    "ies.loc[ies[\"_5127_ATIVO_TOTAL\"] < 0, \"_5127_ATIVO_TOTAL\"] = 0\n",
    "\n",
    "ies[\"_5143_PASSIVO_NC_FINANCIAMENTOS_OBTD\"] = ies[\"_5143_PASSIVO_NC_FINANCIAMENTOS_OBTD\"].fillna(0)\n",
    "ies.loc[ies[\"_5143_PASSIVO_NC_FINANCIAMENTOS_OBTD\"] < 0, \"_5143_PASSIVO_NC_FINANCIAMENTOS_OBTD\"] = 0\n",
    "\n",
    "ies[\"_5113_ATIVO_COR_INVENTARIOS\"] = ies[\"_5113_ATIVO_COR_INVENTARIOS\"].fillna(0)\n",
    "ies.loc[ies[\"_5113_ATIVO_COR_INVENTARIOS\"] < 0, \"_5113_ATIVO_COR_INVENTARIOS\"] = 0\n",
    "\n",
    "ies[\"_5114_ATIVO_COR_ACTIVOS_BIOLOGICOS\"] = ies[\"_5114_ATIVO_COR_ACTIVOS_BIOLOGICOS\"].fillna(0)\n",
    "ies.loc[ies[\"_5114_ATIVO_COR_ACTIVOS_BIOLOGICOS\"] < 0, \"_5114_ATIVO_COR_ACTIVOS_BIOLOGICOS\"] = 0\n",
    "\n",
    "ies[\"_5115_ATIVO_COR_CLIENTES\"] = ies[\"_5115_ATIVO_COR_CLIENTES\"].fillna(0)\n",
    "ies.loc[ies[\"_5115_ATIVO_COR_CLIENTES\"] < 0, \"_5115_ATIVO_COR_CLIENTES\"] = 0\n",
    "\n",
    "ies[\"_5116_ATIVO_COR_ADIANTAMENTOS_FORNEC\"] = ies[\"_5116_ATIVO_COR_ADIANTAMENTOS_FORNEC\"].fillna(0)\n",
    "ies.loc[ies[\"_5116_ATIVO_COR_ADIANTAMENTOS_FORNEC\"] < 0, \"_5116_ATIVO_COR_ADIANTAMENTOS_FORNEC\"] = 0\n",
    "\n",
    "ies[\"_5117_ATIVO_COR_ESTADO_OUT_ENTES_PUB\"] = ies[\"_5117_ATIVO_COR_ESTADO_OUT_ENTES_PUB\"].fillna(0)\n",
    "ies.loc[ies[\"_5117_ATIVO_COR_ESTADO_OUT_ENTES_PUB\"] < 0, \"_5117_ATIVO_COR_ESTADO_OUT_ENTES_PUB\"] = 0\n",
    "\n",
    "ies[\"_5148_PASSIVO_COR_FORNCEDORES\"] = ies[\"_5148_PASSIVO_COR_FORNCEDORES\"].fillna(0)\n",
    "ies.loc[ies[\"_5148_PASSIVO_COR_FORNCEDORES\"] < 0, \"_5148_PASSIVO_COR_FORNCEDORES\"] = 0\n",
    "\n",
    "ies[\"_5149_PASSIVO_COR_ADIANTA_DE_CLIENTES\"] = ies[\"_5149_PASSIVO_COR_ADIANTA_DE_CLIENTES\"].fillna(0)\n",
    "ies.loc[ies[\"_5149_PASSIVO_COR_ADIANTA_DE_CLIENTES\"] < 0, \"_5149_PASSIVO_COR_ADIANTA_DE_CLIENTES\"] = 0\n",
    "\n",
    "ies[\"_5150_PASSIVO_COR_ESTADO_OUT_ENT_PUB\"] = ies[\"_5150_PASSIVO_COR_ESTADO_OUT_ENT_PUB\"].fillna(0)\n",
    "ies.loc[ies[\"_5150_PASSIVO_COR_ESTADO_OUT_ENT_PUB\"] < 0, \"_5150_PASSIVO_COR_ESTADO_OUT_ENT_PUB\"] = 0\n",
    "\n",
    "ies[\"_5025_RESULTADO_LIQUIDO_PERIODO\"] = ies[\"_5025_RESULTADO_LIQUIDO_PERIODO\"].fillna(0)\n",
    "ies.loc[ies[\"_5025_RESULTADO_LIQUIDO_PERIODO\"] < 0, \"_5025_RESULTADO_LIQUIDO_PERIODO\"] = 0\n",
    "\n",
    "ies[\"_5141_CP_TOTAL\"] = ies[\"_5141_CP_TOTAL\"].fillna(0)\n",
    "ies.loc[ies[\"_5141_CP_TOTAL\"] < 0, \"_5141_CP_TOTAL\"] = 0\n",
    "\n",
    "ies[\"_5139_CP_RESULTADO_LIQUIDO_PERIODO\"] = ies[\"_5139_CP_RESULTADO_LIQUIDO_PERIODO\"].fillna(0)\n",
    "ies.loc[ies[\"_5139_CP_RESULTADO_LIQUIDO_PERIODO\"] < 0, \"_5139_CP_RESULTADO_LIQUIDO_PERIODO\"] = 0\n",
    "\n",
    "ies[\"_5127_ATIVO_TOTAL\"] = ies[\"_5127_ATIVO_TOTAL\"].fillna(0)\n",
    "ies.loc[ies[\"_5127_ATIVO_TOTAL\"] < 0, \"_5127_ATIVO_TOTAL\"] = 0\n",
    "\n",
    "\n",
    "\n",
    "conditions = [ies[\"Parametros/Ano_Cand\"].isnull(),\n",
    "              ies[\"ANO_EXERCICIO\"] == (ies[\"Parametros/Ano_Cand\"]-1),\n",
    "              ies[\"ANO_EXERCICIO\"] == (ies[\"Parametros/Ano_Cand\"]-2),\n",
    "              ies[\"ANO_EXERCICIO\"] == (ies[\"Parametros/Ano_Cand\"]-3),\n",
    "              #ies[\"ANO_EXERCICIO\"] == (ies[\"Parametros/Ano_Cand\"]),\n",
    "              #ies[\"ANO_EXERCICIO\"] == (ies[\"Parametros/Ano_Cand\"]+1),\n",
    "              #ies[\"ANO_EXERCICIO\"] == (ies[\"Parametros/Ano_Cand\"]+2),\n",
    "]\n",
    "values = [0, 1, 2, 3] #4, 5, 6]\n",
    "\n",
    "ies[\"ano t-1\"] = np.select(conditions, values, default=0)\n",
    "ies = ies[ies[\"ano t-1\"] >= 1]\n",
    "display(ies[ies[\"N_Proj_anon\"] == 595796][[\"ano t-1\", \"N_Proj_anon\", \"Parametros/Ano_Cand\", \"ANO_EXERCICIO\", \"nif_ano\", \"prom_vol_negocio_med_anual\"]])\n",
    "\n",
    "ies = ies.groupby(\"N_Proj_anon\").min(\"ano t-1\").reset_index()\n",
    "\n",
    "display(ies[ies[\"N_Proj_anon\"] == 595796][[\"ano t-1\", \"N_Proj_anon\", \"Parametros/Ano_Cand\", \"ANO_EXERCICIO\", \"nif_ano\", \"prom_vol_negocio_med_anual\"]])\n",
    "\n",
    "ies[\"prom_ativo_total_t-1\"] = ies[\"_5127_ATIVO_TOTAL\"]\n",
    "ies[\"prom_volume_negocios_t-1\"] = ies[\"_5001_VENDAS_SERVICOS_PRESTADOS\"]\n",
    "ies[\"prom_emprestimo_obtidos_passivo_ncor_t-1\"] = ies[\"_5143_PASSIVO_NC_FINANCIAMENTOS_OBTD\"]\n",
    "ies[\"liquidez_geral_t-1\"] = (ies[\"_5113_ATIVO_COR_INVENTARIOS\"] +\n",
    "                             ies[\"_5114_ATIVO_COR_ACTIVOS_BIOLOGICOS\"] +\n",
    "                             ies[\"_5115_ATIVO_COR_CLIENTES\"] +\n",
    "                             ies[\"_5116_ATIVO_COR_ADIANTAMENTOS_FORNEC\"] +\n",
    "                             ies[\"_5117_ATIVO_COR_ESTADO_OUT_ENTES_PUB\"])/(ies[\"_5148_PASSIVO_COR_FORNCEDORES\"] +\n",
    "                                       ies[\"_5149_PASSIVO_COR_ADIANTA_DE_CLIENTES\"] +\n",
    "                                       ies[\"_5150_PASSIVO_COR_ESTADO_OUT_ENT_PUB\"])\n",
    "ies[\"rentabilidade_capitais_proprios_t-1\"] = (ies[\"_5025_RESULTADO_LIQUIDO_PERIODO\"])/(ies[\"_5141_CP_TOTAL\"])\n",
    "ies[\"resultadoliquido_ativo t-1\"] = (ies[\"_5139_CP_RESULTADO_LIQUIDO_PERIODO\"])/(ies[\"_5127_ATIVO_TOTAL\"])\n",
    "ies[\"prom_financ_vol_negocio_med_anual\"] = (ies[\"Dadosprojecto/Investimento\"])/(ies[\"prom_vol_negocio_med_anual\"])"
   ]
  },
  {
   "cell_type": "code",
   "execution_count": null,
   "id": "88132b62",
   "metadata": {},
   "outputs": [],
   "source": [
    "display(ies[ies[\"N_Proj_anon\"] == 5637109.00][[\"ano t-1\", \"Parametros/Ano_Cand\", \"ANO_EXERCICIO\", \"nif_ano\", \"prom_vol_negocio_med_anual\"]])\n",
    "display(ies[ies[\"N_Proj_anon\"] == 5637109.00].groupby(\"N_Proj_anon\").min(\"ano t-1\")[[\"ano t-1\", \"Parametros/Ano_Cand\", \"ANO_EXERCICIO\", \"nif_ano\", \"prom_vol_negocio_med_anual\"]])\n"
   ]
  },
  {
   "cell_type": "markdown",
   "id": "0eaf1920",
   "metadata": {},
   "source": [
    "# Add features"
   ]
  },
  {
   "cell_type": "code",
   "execution_count": null,
   "id": "cc547fa0",
   "metadata": {},
   "outputs": [],
   "source": [
    "df_projects = pd.DataFrame(projects, columns=[\"N_Proj_anon\"])\n",
    "cols = [\"ANON_Nproj\"]\n",
    "df_projects = df_projects.merge(application[[\"NIF_Prom_anon\", \"Parametros/Ano_Cand\", \"N_Proj_anon\", \"Dadosprojecto/Investimento\", \"Resumo/Dimensao\", \"nuts_ii_sede\", \"Resumo/Cae\", \"emp_menos_4_anos_cand\", \"Gini_NUTS_prom\",\n",
    "    \"estemp\", \"densidade_pop_NUTS_prom\", \"Rede_Universitaria_distrito\", \"n_pme_NUTS_prom\",\n",
    "    \"remuneracao_mensal_media_NUTS_prom\", \"Tx_desemp_NUTS_prom\",\"Risco_pobreza_NUTS_prom\", \"mesma_sede_nuts_ii\"]], on=\"N_Proj_anon\", how=\"left\") \n",
    "\n",
    "\n",
    "\n",
    "df_projects = df_projects.merge(valor_formacoes, on=\"N_Proj_anon\", how=\"left\")\n",
    "df_projects[\"valor_formacoes\"] = df_projects[\"valor_formacoes\"].fillna(0)\n",
    "\n",
    "df_projects = df_projects.merge(n_workers, on=\"N_Proj_anon\", how=\"left\")\n",
    "#df_projects = df_projects.merge(invoice, on=\"N_Proj_anon\", how=\"left\")\n",
    "#merge com tipo_desp em vez de expenditure dado o que foi feito em termos de transformações\n",
    "df_projects = df_projects.merge(tipo_desp, on=\"N_Proj_anon\", how=\"left\")\n",
    "df_projects = df_projects.merge(financing_rubricas[financing_weights], on=\"N_Proj_anon\", how=\"left\")\n",
    "\n",
    "conditions = [\n",
    "    df_projects['N_Proj_anon'].isin(nulled[\"Nproj_anon\"])\n",
    "]\n",
    "values = [1]\n",
    "df_projects[\"proj_nulled\"] = np.select(conditions, values, default=0)\n",
    "\n",
    "df_projects[\"resumo_cae_2dig\"] = df_projects[\"Resumo/Cae\"].astype(str).str[:2]\n",
    "\n",
    "cae_anulados = df_projects[df_projects[\"proj_nulled\"] == 1].groupby(\"resumo_cae_2dig\")[\"N_Proj_anon\"].count().to_frame().reset_index()\n",
    "cae_anulados = cae_anulados.rename(columns={\"N_Proj_anon\": \"num_proj_anul_cae\"})\n",
    "df_projects = df_projects.merge(cae_anulados, on=\"resumo_cae_2dig\", how=\"left\")\n",
    "\n",
    "cae_total = df_projects.groupby(\"resumo_cae_2dig\")[\"N_Proj_anon\"].count().to_frame().reset_index()\n",
    "cae_total = cae_total.rename(columns={\"N_Proj_anon\": \"num_proj_cae\"})\n",
    "df_projects = df_projects.merge(cae_total, on=\"resumo_cae_2dig\", how=\"left\")\n",
    "\n",
    "nuts_ii_anulados = df_projects[df_projects[\"proj_nulled\"] == 1].groupby(\"nuts_ii_sede\")[\"N_Proj_anon\"].count().to_frame().reset_index()\n",
    "nuts_ii_anulados = nuts_ii_anulados.rename(columns={\"N_Proj_anon\": \"num_proj_anul_nuts\"})\n",
    "df_projects = df_projects.merge(nuts_ii_anulados, on=\"nuts_ii_sede\", how=\"left\")\n",
    "\n",
    "nuts_ii_total = df_projects.groupby(\"nuts_ii_sede\")[\"N_Proj_anon\"].count().to_frame().reset_index()\n",
    "nuts_ii_total = nuts_ii_total.rename(columns={\"N_Proj_anon\": \"num_proj_nuts\"})\n",
    "df_projects = df_projects.merge(nuts_ii_total, on=\"nuts_ii_sede\", how=\"left\")\n",
    "\n",
    "df_projects = df_projects.merge(ies[[\"Parametros/Ano_Cand\",\n",
    "                                        \"NIF_Prom_anon\",\n",
    "                                        \"prom_vol_negocio_med_anual\",\n",
    "                                        \"prom_ativo_total_t-1\",\n",
    "                                        \"prom_volume_negocios_t-1\",\n",
    "                                        \"prom_emprestimo_obtidos_passivo_ncor_t-1\",\n",
    "                                        \"liquidez_geral_t-1\",\n",
    "                                        \"rentabilidade_capitais_proprios_t-1\",\n",
    "                                        \"resultadoliquido_ativo t-1\",\n",
    "                                        \"prom_financ_vol_negocio_med_anual\",\n",
    "                                    \"nif_ano\", \"N_Proj_anon\"]],\n",
    "                                on=[\"N_Proj_anon\"], how=\"left\")\n",
    "\n",
    "df_projects[\"freq_target_anul_CAE\"] = df_projects[\"num_proj_anul_cae\"]/df_projects[\"num_proj_cae\"]\n",
    "df_projects[\"freq_target_anul_distrito\"] = df_projects[\"num_proj_anul_nuts\"]/df_projects[\"num_proj_nuts\"]\n",
    "\n",
    "df_projects[\"micro_emp\"] = np.where(df_projects[\"Resumo/Dimensao\"] == 1, 1, 0)\n",
    "df_projects[\"pequena_emp\"] = np.where(df_projects[\"Resumo/Dimensao\"] == 2, 1, 0)\n",
    "df_projects[\"media_emp\"] = np.where(df_projects[\"Resumo/Dimensao\"] == 3, 1, 0)\n",
    "df_projects[\"nao_pme\"] = np.where(df_projects[\"Resumo/Dimensao\"] == 4, 1, 0)\n",
    "\n",
    "df_projects = df_projects.drop_duplicates(subset=\"N_Proj_anon\").reset_index(drop = True)\n",
    "df_projects = df_projects.drop([\"Parametros/Ano_Cand_y\", \"NIF_Prom_anon_y\"], axis=1)\n",
    "\n",
    "\n",
    "df_projects = df_projects.rename(columns={\"Dadosprojecto/Investimento\": \"proj_investimento\",\n",
    "                                          \"NIF_Prom_anon_x\": \"NIF_Prom_anon\",\n",
    "                                          \"Parametros/Ano_Cand_x\": \"Parametros/Ano_Cand\"})\n",
    "df_projects.to_excel(\"IAPMEI_final_estatística_descritiva.xlsx\")\n",
    "\n",
    "\n",
    "#df_projects[df_projects[\"NIF_Prom_anon\"] == 276681390]"
   ]
  },
  {
   "cell_type": "code",
   "execution_count": null,
   "id": "bd7c88d2",
   "metadata": {},
   "outputs": [],
   "source": [
    "df_projects[df_projects[\"nao_pme\"] == 0].to_excel(\"IAPMEI-para-flourish.xlsx\")"
   ]
  },
  {
   "cell_type": "code",
   "execution_count": null,
   "id": "bd363930",
   "metadata": {},
   "outputs": [],
   "source": [
    "df_sem_naopme = df_projects[df_projects[\"nao_pme\"] == 0]"
   ]
  },
  {
   "cell_type": "code",
   "execution_count": null,
   "id": "566a148a",
   "metadata": {},
   "outputs": [],
   "source": [
    "df_sem_naopme.groupby([\"nuts_ii_sede\", \"proj_nulled\"])[\"proj_investimento\"].sum().to_frame()"
   ]
  },
  {
   "cell_type": "code",
   "execution_count": null,
   "id": "3369824b",
   "metadata": {},
   "outputs": [],
   "source": [
    "df_sem_naopme.groupby([\"Resumo/Dimensao\", \"proj_nulled\"])[\"proj_investimento\"].sum().to_frame()"
   ]
  },
  {
   "cell_type": "code",
   "execution_count": null,
   "id": "7385e8ac",
   "metadata": {},
   "outputs": [],
   "source": [
    "df_sem_naopme.groupby([\"Parametros/Ano_Cand\", \"proj_nulled\"])[\"proj_investimento\"].sum().to_frame()"
   ]
  },
  {
   "cell_type": "code",
   "execution_count": null,
   "id": "af16e37f",
   "metadata": {},
   "outputs": [],
   "source": [
    "df_sem_naopme.groupby(\"resumo_cae_2dig\")[\"proj_nulled\"].value_counts().to_frame().to_excel(\"cae por cancelados.xlsx\")"
   ]
  },
  {
   "cell_type": "code",
   "execution_count": null,
   "id": "f9083e6a",
   "metadata": {},
   "outputs": [],
   "source": [
    "df_projects[\"proj_nulled\"].value_counts()"
   ]
  },
  {
   "cell_type": "markdown",
   "id": "a71e82eb",
   "metadata": {},
   "source": [
    "Data profiling com Não-PME vs Sem-PME"
   ]
  },
  {
   "cell_type": "code",
   "execution_count": null,
   "id": "cd9418d2",
   "metadata": {},
   "outputs": [],
   "source": [
    "df_projects[df_projects[\"nao_pme\"] == 0].describe().T.to_excel(\"desc_sem_naopme.xlsx\")\n",
    "df_projects.describe().T.to_excel(\"desc_com_naopme.xlsx\")"
   ]
  },
  {
   "cell_type": "markdown",
   "id": "ee070e48",
   "metadata": {},
   "source": [
    "# Possibility for Outlier treatment"
   ]
  },
  {
   "cell_type": "markdown",
   "id": "0ec5323d",
   "metadata": {},
   "source": [
    "Experiência sem Não-PME"
   ]
  },
  {
   "cell_type": "code",
   "execution_count": null,
   "id": "12a0cf2f",
   "metadata": {},
   "outputs": [],
   "source": [
    "iqr_cols =[\n",
    "\"proj_investimento\",\n",
    "\"prom_vol_negocio_med_anual\",\n",
    "\"prom_ativo_total_t-1\",\n",
    "\"prom_volume_negocios_t-1\",\n",
    "\"prom_emprestimo_obtidos_passivo_ncor_t-1\",\n",
    "\"liquidez_geral_t-1\",\n",
    "\"rentabilidade_capitais_proprios_t-1\",\n",
    "\"resultadoliquido_ativo t-1\",\n",
    "\"prom_financ_vol_negocio_med_anual\",\n",
    "\"PesoCP\",\n",
    "\"PesoAutofinanciamento\",\n",
    "\"PesoCapitais Alheios\",\n",
    "\"Peso dos Sócios\",\n",
    "\"Peso Incentivo Total\",\n",
    "\"Peso Incentivo N Reembolsável\",\n",
    "\"valor_formacoes\",\n",
    "\"N_trabalhadores\"\n",
    "]\n",
    "\n",
    "df_projects_s_npme = df_projects[(df_projects[\"nao_pme\"] == 0)]\n",
    "# calculate the IQR for each column\n",
    "q1 = df_projects_s_npme[iqr_cols].quantile(0.25)\n",
    "q3 = df_projects_s_npme[iqr_cols].quantile(0.75)\n",
    "iqr = q3 - q1\n",
    "\n",
    "iqr_range = [1.5]\n",
    "\n",
    "# define the lower and upper bounds for each column\n",
    "lower_bound = q1 - (1.5 * iqr)\n",
    "upper_bound = q3 + (1.5 * iqr)\n",
    "\n",
    "# identify and mark any outliers\n",
    "outliers = (df_projects_s_npme[iqr_cols] < lower_bound) | (df_projects_s_npme[iqr_cols] > upper_bound)\n",
    "\n",
    "# For each column check the number of outliers present\n",
    "for column in outliers.columns:\n",
    "    print(\"The column \", column, \" has \", outliers[outliers[column] == True][column].count(), \" outliers\")\n",
    "    #print(dataset[iqr_cols][outliers].describe())\n",
    "\n",
    "    \n",
    "print(\"\\n\")\n",
    "df_projects_s_npme.loc[outliers.any(axis=1), iqr_cols].to_excel(\"outliers detetados_sempme.xlsx\")\n",
    "df_projects_s_npme[iqr_cols] = df_projects_s_npme.loc[~outliers.any(axis=1), iqr_cols]\n",
    "display(df_projects_s_npme[df_projects_s_npme[\"proj_nulled\"] == 0].describe().T)\n",
    "\n",
    "df_projects_s_npme.describe().T.to_excel(\"descoutliers_semnaopme.xlsx\")\n",
    "# remove the outliers from the DataFrame\n",
    "#dataset[iqr_cols] = dataset.loc[~outliers.any(axis=1), iqr_cols]"
   ]
  },
  {
   "cell_type": "code",
   "execution_count": null,
   "id": "25ae4d8e",
   "metadata": {},
   "outputs": [],
   "source": [
    "df_projects[\"proj_nulled\"].value_counts()"
   ]
  },
  {
   "cell_type": "markdown",
   "id": "ce65721b",
   "metadata": {},
   "source": [
    "# Remoção das variáveis não relevantes para o dataset final"
   ]
  },
  {
   "cell_type": "code",
   "execution_count": null,
   "id": "11d23373",
   "metadata": {},
   "outputs": [],
   "source": [
    "df_projects_final.columns"
   ]
  },
  {
   "cell_type": "code",
   "execution_count": null,
   "id": "4cbb8298",
   "metadata": {},
   "outputs": [],
   "source": [
    "df_projects_final.set_index('N_Proj_anon', inplace=True)\n"
   ]
  },
  {
   "cell_type": "code",
   "execution_count": null,
   "id": "6b86623f",
   "metadata": {},
   "outputs": [],
   "source": [
    "cols_drop = [\"NIF_Prom_anon\",\n",
    "\"Parametros/Ano_Cand\",\n",
    "\"nuts_ii_sede\",\n",
    "\"Resumo/Dimensao\",\n",
    "#\"N_Proj_anon\",\n",
    "'Resumo/Cae',\n",
    "'despesa_total_Software_Equipamentos_Informaticos',\n",
    "'despesa_total_Construcao/Remodelacao_Edificios',\n",
    "'despesa_total_Estudos_Diagnosticos_Licencas_ServicosEngenharia',\n",
    "'despesa_total_Maquinas_Equipamentos',\n",
    "'despesa_total_Outras Despesas',\n",
    "'total',\n",
    "'resumo_cae_2dig',\n",
    "'num_proj_anul_cae',\n",
    "'num_proj_cae',\n",
    "'num_proj_anul_nuts',\n",
    "'num_proj_nuts',\n",
    "\"nao_pme\", \"nif_ano\"]\n",
    "df_projects_final = df_projects_final.drop(cols_drop, axis=1)\n",
    "\n"
   ]
  },
  {
   "cell_type": "markdown",
   "id": "6b54b351",
   "metadata": {},
   "source": [
    "# Final scaling"
   ]
  },
  {
   "cell_type": "code",
   "execution_count": null,
   "id": "bc232a5c",
   "metadata": {},
   "outputs": [],
   "source": [
    "cols_to_scale = [\"Gini_NUTS_prom\",\n",
    "    \"estemp\",\n",
    "    \"densidade_pop_NUTS_prom\",\n",
    "    \"Rede_Universitaria_distrito\",\n",
    "    \"n_pme_NUTS_prom\",\n",
    "    \"remuneracao_mensal_media_NUTS_prom\",\n",
    "    \"Tx_desemp_NUTS_prom\",\n",
    "    \"Risco_pobreza_NUTS_prom\",\n",
    "    \"N_trabalhadores\",\n",
    "    \"proj_investimento\",\n",
    "    \"valor_formacoes\",   \n",
    "    \"freq_target_anul_CAE\",\n",
    "    \"freq_target_anul_distrito\",\n",
    "    'prom_vol_negocio_med_anual',\n",
    "    'prom_ativo_total_t-1',\n",
    "    'prom_volume_negocios_t-1',\n",
    "    'prom_emprestimo_obtidos_passivo_ncor_t-1',\n",
    "    'liquidez_geral_t-1',\n",
    "    'rentabilidade_capitais_proprios_t-1',\n",
    "    'resultadoliquido_ativo t-1',\n",
    "    'prom_financ_vol_negocio_med_anual',\n",
    "    \n",
    "]\n",
    "\n",
    "df_projects_final = df_projects_final.fillna(0)\n",
    "\n",
    "cols_reordered = [\"Gini_NUTS_prom\",\n",
    "\"estemp\",\n",
    "\"densidade_pop_NUTS_prom\",\n",
    "\"Rede_Universitaria_distrito\",\n",
    "\"n_pme_NUTS_prom\",\n",
    "\"remuneracao_mensal_media_NUTS_prom\",\n",
    "\"Tx_desemp_NUTS_prom\",\n",
    "\"Risco_pobreza_NUTS_prom\",\n",
    "\"N_trabalhadores\",\n",
    "\"proj_investimento\",\n",
    "\"valor_formacoes\",   \n",
    "\"freq_target_anul_CAE\",\n",
    "\"freq_target_anul_distrito\",\n",
    "'prom_vol_negocio_med_anual',\n",
    "'prom_ativo_total_t-1',\n",
    "'prom_volume_negocios_t-1',\n",
    "'prom_emprestimo_obtidos_passivo_ncor_t-1',\n",
    "'liquidez_geral_t-1',\n",
    "'rentabilidade_capitais_proprios_t-1',\n",
    "'resultadoliquido_ativo t-1',\n",
    "'prom_financ_vol_negocio_med_anual',\n",
    "                   \n",
    "\"emp_menos_4_anos_cand\",\n",
    "\"tipodesp_Software_Equipamentos_Informaticos\",\n",
    "\"tipodesp_Construcao-Remodelacao_Edificios\",\n",
    "\"tipodesp_Estudos_Diagnosticos_Licencas_ServicosEngenharia\",\n",
    "\"tipodesp_Maquinas_Equipamentos\",\n",
    "\"tipodesp_Outras Despesas\",\n",
    "\"PesoCP\",\n",
    "\"PesoAutofinanciamento\",\n",
    "\"PesoCapitais Alheios\",\n",
    "\"Peso dos Sócios\",\n",
    "\"Peso Incentivo Total\",\n",
    "\"Peso Incentivo N Reembolsável\",\n",
    "\"%elegibilidade\",\n",
    "\"erros_racios_inv\",\n",
    "\"proj_nulled\",\n",
    "\"mesma_sede_nuts_ii\",                  \n",
    "\"micro_emp\",\n",
    "\"pequena_emp\",\n",
    "\"media_emp\"]\n",
    "\n",
    "cols = {\n",
    "\"proj_investimento\": \"Investment (€)\",\n",
    "\"emp_menos_4_anos_cand\": \"Young company\",\n",
    "\"Gini_NUTS_prom\": \"Gini Index NUTS\",\n",
    "\"estemp\": \"Company closure NUTS\",\n",
    "\"densidade_pop_NUTS_prom\": \"Population density NUTS\",\n",
    "\"Rede_Universitaria_distrito\": \"College Network NUTS\",\n",
    "\"n_pme_NUTS_prom\": \"Number of SME NUTS\",\n",
    "\"remuneracao_mensal_media_NUTS_prom\": \"Mean salary NUTS\",\n",
    "\"Tx_desemp_NUTS_prom\": \"Unemployment rate NUTS\",\n",
    "\"Risco_pobreza_NUTS_prom\": \"Poverty rate NUTS\",\n",
    "\"valor_formacoes\": \"Value of training\",\n",
    "\"N_trabalhadores\": \"Number of workers\",\n",
    "\"tipodesp_Software_Equipamentos_Informaticos\": \"Expenses - IT\",\n",
    "\"tipodesp_Construcao-Remodelacao_Edificios\": \"Expenses - Civil construction\",\n",
    "\"tipodesp_Estudos_Diagnosticos_Licencas_ServicosEngenharia\": \"Expenses - Engineering services\",\n",
    "\"tipodesp_Maquinas_Equipamentos\": \"Expenses - Equipment\",\n",
    "\"tipodesp_Outras Despesas\": \"Expenses - Other\",\n",
    "\"PesoCP\": \"Weight - Equity\",\n",
    "\"PesoAutofinanciamento\": \"Weight - Self-financing\",\n",
    "\"PesoCapitais Alheios\": \"Weight - Foreign capital\",\n",
    "\"Peso dos Sócios\": \"Weight - Partners\",\n",
    "\"Peso Incentivo Total\": \"Weight - Total incentive\",\n",
    "\"Peso Incentivo N Reembolsável\": \"Weight - Reimbursable incentive\",\n",
    "\"%elegibilidade\": \"Eligibility (%)\",\n",
    "\"erros_racios_inv\": \"Errors in weights\",\n",
    "\"proj_nulled\": \"Project cancelled\",\n",
    "\"prom_vol_negocio_med_anual\": \"Mean turnover\",\n",
    "\"prom_ativo_total_t-1\": \"Asset\",\n",
    "\"prom_volume_negocios_t-1\": \"Turnover\",\n",
    "\"prom_emprestimo_obtidos_passivo_ncor_t-1\": \"Liabilities (credit)\",\n",
    "\"liquidez_geral_t-1\": \"Liquidity\",\n",
    "\"rentabilidade_capitais_proprios_t-1\": \"Equity\",\n",
    "\"resultadoliquido_ativo t-1\": \"Net profit or loss\",\n",
    "\"prom_financ_vol_negocio_med_anual\": \"Financial mean turnover\",\n",
    "\"freq_target_anul_CAE\": \"Historical frequency of cancellation CAE\",\n",
    "\"freq_target_anul_distrito\": \"Historical frequency of cancellation NUTS\",\n",
    "\"mesma_sede_nuts_ii\": \"NUTS II of Project = NUTS II of head office\",\n",
    "\"micro_emp\": \"Is micro enterprise\",\n",
    "\"pequena_emp\": \"Is small company\",\n",
    "\"media_emp\": \"Is medium company\"}\n",
    "\n",
    "df_projects_final = df_projects_final[cols_reordered]\n",
    "df_projects_micro = df_projects_final[df_projects_final[\"micro_emp\"] == 1]\n",
    "df_projects_peq_med = df_projects_final[(df_projects_final[\"pequena_emp\"] == 1) | (df_projects_final[\"media_emp\"] == 1)]\n",
    "# Create a transformer that scales selected columns\n",
    "\n",
    "scaler = ColumnTransformer(transformers=[('scaler', MinMaxScaler(), cols_to_scale)], remainder='passthrough')#.set_output(transform=\"pandas\")\n",
    "\n",
    "# Scale the feature values of the dataframe\n",
    "#df_projects_sc = scaler.fit_transform(df_projects)\n",
    "df_projects_sc = pd.DataFrame(scaler.fit_transform(df_projects_final), columns=cols_reordered, index=df_projects_final.index)\n",
    "\n",
    "df_projects_micro_sc = pd.DataFrame(scaler.fit_transform(df_projects_micro), columns=cols_reordered)\n",
    "df_projects_peq_med_sc = pd.DataFrame(scaler.fit_transform(df_projects_peq_med), columns=cols_reordered)\n",
    "\n",
    "df_projects_sc = df_projects_sc.rename(columns=cols)\n",
    "df_projects_micro_sc = df_projects_micro_sc.rename(columns=cols)\n",
    "df_projects_peq_med_sc = df_projects_peq_med_sc.rename(columns=cols)\n",
    "\n",
    "df_projects_sc.to_csv(\"iapmei-baseline-todas-comIES-com-index.csv\", index=True, sep=';', encoding=\"utf-8\")\n",
    "df_projects_micro_sc.to_csv(\"iapmei-baseline-micro_v3-com-index.csv\", index=True, sep=';', encoding=\"utf-8\")\n",
    "df_projects_peq_med_sc.to_csv(\"iapmei-baseline-peq_med_v3-com-index.csv\", index=True, sep=';', encoding=\"utf-8\")\n",
    "#df_projects_sc.to_excel(\"IAPMEI_final_modelos.xlsx\")"
   ]
  },
  {
   "cell_type": "code",
   "execution_count": null,
   "id": "3d54d1c9",
   "metadata": {},
   "outputs": [],
   "source": [
    "df_projects_peq_med"
   ]
  },
  {
   "cell_type": "code",
   "execution_count": null,
   "id": "2684c9a1",
   "metadata": {},
   "outputs": [],
   "source": [
    "df_projects_sc.columns"
   ]
  }
 ],
 "metadata": {
  "kernelspec": {
   "display_name": "Python 3 (ipykernel)",
   "language": "python",
   "name": "python3"
  },
  "language_info": {
   "codemirror_mode": {
    "name": "ipython",
    "version": 3
   },
   "file_extension": ".py",
   "mimetype": "text/x-python",
   "name": "python",
   "nbconvert_exporter": "python",
   "pygments_lexer": "ipython3",
   "version": "3.9.7"
  }
 },
 "nbformat": 4,
 "nbformat_minor": 5
}
