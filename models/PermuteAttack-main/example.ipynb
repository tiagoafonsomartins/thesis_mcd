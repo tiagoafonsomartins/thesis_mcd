{
 "cells": [
  {
   "cell_type": "code",
   "execution_count": 1,
   "metadata": {},
   "outputs": [],
   "source": [
    "%load_ext autoreload\n",
    "%autoreload 2\n",
    "\n",
    "import pandas as pd\n",
    "pd.set_option('display.max_rows', 500)\n",
    "pd.set_option('display.max_columns', 500)\n",
    "pd.set_option('display.width', 1000)"
   ]
  },
  {
   "cell_type": "code",
   "execution_count": 2,
   "metadata": {},
   "outputs": [],
   "source": [
    "import random\n",
    "from sklearn.ensemble import RandomForestClassifier\n",
    "from sklearn.tree import DecisionTreeClassifier \n",
    "from sklearn.linear_model import LogisticRegression, SGDClassifier\n",
    "from sklearn.preprocessing import MinMaxScaler\n",
    "from sklearn.pipeline import Pipeline\n",
    "\n",
    "import numpy as np\n",
    "import pandas as pd\n",
    "from sklearn.preprocessing import LabelEncoder\n",
    "\n",
    "from sklearn.datasets import load_iris, load_breast_cancer\n",
    "from sklearn.model_selection import train_test_split\n",
    "from sklearn.metrics import accuracy_score\n",
    "from sklearn.ensemble import ExtraTreesClassifier\n",
    "\n",
    "import matplotlib.pyplot as plt\n",
    "%matplotlib inline\n",
    "\n",
    "np.random.seed(555)\n",
    "\n",
    "import matplotlib.pyplot\n",
    "plt.style.use('ggplot')"
   ]
  },
  {
   "cell_type": "code",
   "execution_count": 3,
   "metadata": {},
   "outputs": [],
   "source": [
    "from src.ga_attack import GA_Counterfactual, GAdvExample, alibi_ord_to_ohe, alibi_ohe_to_ord\n",
    "from src.utils import plot_graph, create_onehot_map"
   ]
  },
  {
   "cell_type": "code",
   "execution_count": 4,
   "metadata": {},
   "outputs": [
    {
     "data": {
      "text/html": [
       "<div>\n",
       "<style scoped>\n",
       "    .dataframe tbody tr th:only-of-type {\n",
       "        vertical-align: middle;\n",
       "    }\n",
       "\n",
       "    .dataframe tbody tr th {\n",
       "        vertical-align: top;\n",
       "    }\n",
       "\n",
       "    .dataframe thead th {\n",
       "        text-align: right;\n",
       "    }\n",
       "</style>\n",
       "<table border=\"1\" class=\"dataframe\">\n",
       "  <thead>\n",
       "    <tr style=\"text-align: right;\">\n",
       "      <th></th>\n",
       "      <th>duration_in_month</th>\n",
       "      <th>credit_amount</th>\n",
       "      <th>installment_as_income_perc</th>\n",
       "      <th>present_res_since</th>\n",
       "      <th>age</th>\n",
       "      <th>credits_this_bank</th>\n",
       "      <th>people_under_maintenance</th>\n",
       "      <th>account_check_status_0 &lt;= ... &lt; 200 DM</th>\n",
       "      <th>account_check_status_&lt; 0 DM</th>\n",
       "      <th>account_check_status_&gt;= 200 DM / salary assignments for at least 1 year</th>\n",
       "      <th>account_check_status_no checking account</th>\n",
       "      <th>credit_history_all credits at this bank paid back duly</th>\n",
       "      <th>credit_history_critical account/ other credits existing (not at this bank)</th>\n",
       "      <th>credit_history_delay in paying off in the past</th>\n",
       "      <th>credit_history_existing credits paid back duly till now</th>\n",
       "      <th>credit_history_no credits taken/ all credits paid back duly</th>\n",
       "      <th>purpose_(vacation - does not exist?)</th>\n",
       "      <th>purpose_business</th>\n",
       "      <th>purpose_car (new)</th>\n",
       "      <th>purpose_car (used)</th>\n",
       "      <th>purpose_domestic appliances</th>\n",
       "      <th>purpose_education</th>\n",
       "      <th>purpose_furniture/equipment</th>\n",
       "      <th>purpose_radio/television</th>\n",
       "      <th>purpose_repairs</th>\n",
       "      <th>purpose_retraining</th>\n",
       "      <th>savings_.. &gt;= 1000 DM</th>\n",
       "      <th>savings_... &lt; 100 DM</th>\n",
       "      <th>savings_100 &lt;= ... &lt; 500 DM</th>\n",
       "      <th>savings_500 &lt;= ... &lt; 1000 DM</th>\n",
       "      <th>savings_unknown/ no savings account</th>\n",
       "      <th>present_emp_since_.. &gt;= 7 years</th>\n",
       "      <th>present_emp_since_... &lt; 1 year</th>\n",
       "      <th>present_emp_since_1 &lt;= ... &lt; 4 years</th>\n",
       "      <th>present_emp_since_4 &lt;= ... &lt; 7 years</th>\n",
       "      <th>present_emp_since_unemployed</th>\n",
       "      <th>personal_status_sex_female : divorced/separated/married</th>\n",
       "      <th>personal_status_sex_male : divorced/separated</th>\n",
       "      <th>personal_status_sex_male : married/widowed</th>\n",
       "      <th>personal_status_sex_male : single</th>\n",
       "      <th>other_debtors_co-applicant</th>\n",
       "      <th>other_debtors_guarantor</th>\n",
       "      <th>other_debtors_none</th>\n",
       "      <th>property_if not A121 : building society savings agreement/ life insurance</th>\n",
       "      <th>property_if not A121/A122 : car or other, not in attribute 6</th>\n",
       "      <th>property_real estate</th>\n",
       "      <th>property_unknown / no property</th>\n",
       "      <th>other_installment_plans_bank</th>\n",
       "      <th>other_installment_plans_none</th>\n",
       "      <th>other_installment_plans_stores</th>\n",
       "      <th>housing_for free</th>\n",
       "      <th>housing_own</th>\n",
       "      <th>housing_rent</th>\n",
       "      <th>job_management/ self-employed/ highly qualified employee/ officer</th>\n",
       "      <th>job_skilled employee / official</th>\n",
       "      <th>job_unemployed/ unskilled - non-resident</th>\n",
       "      <th>job_unskilled - resident</th>\n",
       "      <th>telephone_none</th>\n",
       "      <th>telephone_yes, registered under the customers name</th>\n",
       "      <th>foreign_worker_no</th>\n",
       "      <th>foreign_worker_yes</th>\n",
       "    </tr>\n",
       "  </thead>\n",
       "  <tbody>\n",
       "    <tr>\n",
       "      <th>0</th>\n",
       "      <td>6</td>\n",
       "      <td>1169</td>\n",
       "      <td>4</td>\n",
       "      <td>4</td>\n",
       "      <td>67</td>\n",
       "      <td>2</td>\n",
       "      <td>1</td>\n",
       "      <td>0</td>\n",
       "      <td>1</td>\n",
       "      <td>0</td>\n",
       "      <td>0</td>\n",
       "      <td>0</td>\n",
       "      <td>1</td>\n",
       "      <td>0</td>\n",
       "      <td>0</td>\n",
       "      <td>0</td>\n",
       "      <td>0</td>\n",
       "      <td>0</td>\n",
       "      <td>0</td>\n",
       "      <td>0</td>\n",
       "      <td>1</td>\n",
       "      <td>0</td>\n",
       "      <td>0</td>\n",
       "      <td>0</td>\n",
       "      <td>0</td>\n",
       "      <td>0</td>\n",
       "      <td>0</td>\n",
       "      <td>0</td>\n",
       "      <td>0</td>\n",
       "      <td>0</td>\n",
       "      <td>1</td>\n",
       "      <td>1</td>\n",
       "      <td>0</td>\n",
       "      <td>0</td>\n",
       "      <td>0</td>\n",
       "      <td>0</td>\n",
       "      <td>0</td>\n",
       "      <td>0</td>\n",
       "      <td>0</td>\n",
       "      <td>1</td>\n",
       "      <td>0</td>\n",
       "      <td>0</td>\n",
       "      <td>1</td>\n",
       "      <td>0</td>\n",
       "      <td>0</td>\n",
       "      <td>1</td>\n",
       "      <td>0</td>\n",
       "      <td>0</td>\n",
       "      <td>1</td>\n",
       "      <td>0</td>\n",
       "      <td>0</td>\n",
       "      <td>1</td>\n",
       "      <td>0</td>\n",
       "      <td>0</td>\n",
       "      <td>1</td>\n",
       "      <td>0</td>\n",
       "      <td>0</td>\n",
       "      <td>0</td>\n",
       "      <td>1</td>\n",
       "      <td>0</td>\n",
       "      <td>1</td>\n",
       "    </tr>\n",
       "    <tr>\n",
       "      <th>1</th>\n",
       "      <td>48</td>\n",
       "      <td>5951</td>\n",
       "      <td>2</td>\n",
       "      <td>2</td>\n",
       "      <td>22</td>\n",
       "      <td>1</td>\n",
       "      <td>1</td>\n",
       "      <td>1</td>\n",
       "      <td>0</td>\n",
       "      <td>0</td>\n",
       "      <td>0</td>\n",
       "      <td>0</td>\n",
       "      <td>0</td>\n",
       "      <td>0</td>\n",
       "      <td>1</td>\n",
       "      <td>0</td>\n",
       "      <td>0</td>\n",
       "      <td>0</td>\n",
       "      <td>0</td>\n",
       "      <td>0</td>\n",
       "      <td>1</td>\n",
       "      <td>0</td>\n",
       "      <td>0</td>\n",
       "      <td>0</td>\n",
       "      <td>0</td>\n",
       "      <td>0</td>\n",
       "      <td>0</td>\n",
       "      <td>1</td>\n",
       "      <td>0</td>\n",
       "      <td>0</td>\n",
       "      <td>0</td>\n",
       "      <td>0</td>\n",
       "      <td>0</td>\n",
       "      <td>1</td>\n",
       "      <td>0</td>\n",
       "      <td>0</td>\n",
       "      <td>1</td>\n",
       "      <td>0</td>\n",
       "      <td>0</td>\n",
       "      <td>0</td>\n",
       "      <td>0</td>\n",
       "      <td>0</td>\n",
       "      <td>1</td>\n",
       "      <td>0</td>\n",
       "      <td>0</td>\n",
       "      <td>1</td>\n",
       "      <td>0</td>\n",
       "      <td>0</td>\n",
       "      <td>1</td>\n",
       "      <td>0</td>\n",
       "      <td>0</td>\n",
       "      <td>1</td>\n",
       "      <td>0</td>\n",
       "      <td>0</td>\n",
       "      <td>1</td>\n",
       "      <td>0</td>\n",
       "      <td>0</td>\n",
       "      <td>1</td>\n",
       "      <td>0</td>\n",
       "      <td>0</td>\n",
       "      <td>1</td>\n",
       "    </tr>\n",
       "    <tr>\n",
       "      <th>2</th>\n",
       "      <td>12</td>\n",
       "      <td>2096</td>\n",
       "      <td>2</td>\n",
       "      <td>3</td>\n",
       "      <td>49</td>\n",
       "      <td>1</td>\n",
       "      <td>2</td>\n",
       "      <td>0</td>\n",
       "      <td>0</td>\n",
       "      <td>0</td>\n",
       "      <td>1</td>\n",
       "      <td>0</td>\n",
       "      <td>1</td>\n",
       "      <td>0</td>\n",
       "      <td>0</td>\n",
       "      <td>0</td>\n",
       "      <td>1</td>\n",
       "      <td>0</td>\n",
       "      <td>0</td>\n",
       "      <td>0</td>\n",
       "      <td>0</td>\n",
       "      <td>0</td>\n",
       "      <td>0</td>\n",
       "      <td>0</td>\n",
       "      <td>0</td>\n",
       "      <td>0</td>\n",
       "      <td>0</td>\n",
       "      <td>1</td>\n",
       "      <td>0</td>\n",
       "      <td>0</td>\n",
       "      <td>0</td>\n",
       "      <td>0</td>\n",
       "      <td>0</td>\n",
       "      <td>0</td>\n",
       "      <td>1</td>\n",
       "      <td>0</td>\n",
       "      <td>0</td>\n",
       "      <td>0</td>\n",
       "      <td>0</td>\n",
       "      <td>1</td>\n",
       "      <td>0</td>\n",
       "      <td>0</td>\n",
       "      <td>1</td>\n",
       "      <td>0</td>\n",
       "      <td>0</td>\n",
       "      <td>1</td>\n",
       "      <td>0</td>\n",
       "      <td>0</td>\n",
       "      <td>1</td>\n",
       "      <td>0</td>\n",
       "      <td>0</td>\n",
       "      <td>1</td>\n",
       "      <td>0</td>\n",
       "      <td>0</td>\n",
       "      <td>0</td>\n",
       "      <td>0</td>\n",
       "      <td>1</td>\n",
       "      <td>1</td>\n",
       "      <td>0</td>\n",
       "      <td>0</td>\n",
       "      <td>1</td>\n",
       "    </tr>\n",
       "    <tr>\n",
       "      <th>3</th>\n",
       "      <td>42</td>\n",
       "      <td>7882</td>\n",
       "      <td>2</td>\n",
       "      <td>4</td>\n",
       "      <td>45</td>\n",
       "      <td>1</td>\n",
       "      <td>2</td>\n",
       "      <td>0</td>\n",
       "      <td>1</td>\n",
       "      <td>0</td>\n",
       "      <td>0</td>\n",
       "      <td>0</td>\n",
       "      <td>0</td>\n",
       "      <td>0</td>\n",
       "      <td>1</td>\n",
       "      <td>0</td>\n",
       "      <td>0</td>\n",
       "      <td>0</td>\n",
       "      <td>0</td>\n",
       "      <td>0</td>\n",
       "      <td>0</td>\n",
       "      <td>0</td>\n",
       "      <td>0</td>\n",
       "      <td>1</td>\n",
       "      <td>0</td>\n",
       "      <td>0</td>\n",
       "      <td>0</td>\n",
       "      <td>1</td>\n",
       "      <td>0</td>\n",
       "      <td>0</td>\n",
       "      <td>0</td>\n",
       "      <td>0</td>\n",
       "      <td>0</td>\n",
       "      <td>0</td>\n",
       "      <td>1</td>\n",
       "      <td>0</td>\n",
       "      <td>0</td>\n",
       "      <td>0</td>\n",
       "      <td>0</td>\n",
       "      <td>1</td>\n",
       "      <td>0</td>\n",
       "      <td>1</td>\n",
       "      <td>0</td>\n",
       "      <td>1</td>\n",
       "      <td>0</td>\n",
       "      <td>0</td>\n",
       "      <td>0</td>\n",
       "      <td>0</td>\n",
       "      <td>1</td>\n",
       "      <td>0</td>\n",
       "      <td>1</td>\n",
       "      <td>0</td>\n",
       "      <td>0</td>\n",
       "      <td>0</td>\n",
       "      <td>1</td>\n",
       "      <td>0</td>\n",
       "      <td>0</td>\n",
       "      <td>1</td>\n",
       "      <td>0</td>\n",
       "      <td>0</td>\n",
       "      <td>1</td>\n",
       "    </tr>\n",
       "    <tr>\n",
       "      <th>4</th>\n",
       "      <td>24</td>\n",
       "      <td>4870</td>\n",
       "      <td>3</td>\n",
       "      <td>4</td>\n",
       "      <td>53</td>\n",
       "      <td>2</td>\n",
       "      <td>2</td>\n",
       "      <td>0</td>\n",
       "      <td>1</td>\n",
       "      <td>0</td>\n",
       "      <td>0</td>\n",
       "      <td>0</td>\n",
       "      <td>0</td>\n",
       "      <td>1</td>\n",
       "      <td>0</td>\n",
       "      <td>0</td>\n",
       "      <td>0</td>\n",
       "      <td>0</td>\n",
       "      <td>1</td>\n",
       "      <td>0</td>\n",
       "      <td>0</td>\n",
       "      <td>0</td>\n",
       "      <td>0</td>\n",
       "      <td>0</td>\n",
       "      <td>0</td>\n",
       "      <td>0</td>\n",
       "      <td>0</td>\n",
       "      <td>1</td>\n",
       "      <td>0</td>\n",
       "      <td>0</td>\n",
       "      <td>0</td>\n",
       "      <td>0</td>\n",
       "      <td>0</td>\n",
       "      <td>1</td>\n",
       "      <td>0</td>\n",
       "      <td>0</td>\n",
       "      <td>0</td>\n",
       "      <td>0</td>\n",
       "      <td>0</td>\n",
       "      <td>1</td>\n",
       "      <td>0</td>\n",
       "      <td>0</td>\n",
       "      <td>1</td>\n",
       "      <td>0</td>\n",
       "      <td>0</td>\n",
       "      <td>0</td>\n",
       "      <td>1</td>\n",
       "      <td>0</td>\n",
       "      <td>1</td>\n",
       "      <td>0</td>\n",
       "      <td>1</td>\n",
       "      <td>0</td>\n",
       "      <td>0</td>\n",
       "      <td>0</td>\n",
       "      <td>1</td>\n",
       "      <td>0</td>\n",
       "      <td>0</td>\n",
       "      <td>1</td>\n",
       "      <td>0</td>\n",
       "      <td>0</td>\n",
       "      <td>1</td>\n",
       "    </tr>\n",
       "  </tbody>\n",
       "</table>\n",
       "</div>"
      ],
      "text/plain": [
       "   duration_in_month  credit_amount  installment_as_income_perc  present_res_since  age  credits_this_bank  people_under_maintenance  account_check_status_0 <= ... < 200 DM  account_check_status_< 0 DM  account_check_status_>= 200 DM / salary assignments for at least 1 year  account_check_status_no checking account  credit_history_all credits at this bank paid back duly  credit_history_critical account/ other credits existing (not at this bank)  credit_history_delay in paying off in the past  credit_history_existing credits paid back duly till now  credit_history_no credits taken/ all credits paid back duly  purpose_(vacation - does not exist?)  purpose_business  purpose_car (new)  purpose_car (used)  purpose_domestic appliances  purpose_education  purpose_furniture/equipment  purpose_radio/television  purpose_repairs  purpose_retraining  savings_.. >= 1000 DM   savings_... < 100 DM  savings_100 <= ... < 500 DM  savings_500 <= ... < 1000 DM   savings_unknown/ no savings account  \\\n",
       "0                  6           1169                           4                  4   67                  2                         1                                       0                            1                                                  0                                                               0                                                  0                                                       1                                                                        0                                                  0                                                        0                                               0                 0                  0                   0                            1                  0                            0                         0                0                   0                       0                     0                            0                              0                                    1   \n",
       "1                 48           5951                           2                  2   22                  1                         1                                       1                            0                                                  0                                                               0                                                  0                                                       0                                                                        0                                                  1                                                        0                                               0                 0                  0                   0                            1                  0                            0                         0                0                   0                       0                     1                            0                              0                                    0   \n",
       "2                 12           2096                           2                  3   49                  1                         2                                       0                            0                                                  0                                                               1                                                  0                                                       1                                                                        0                                                  0                                                        0                                               1                 0                  0                   0                            0                  0                            0                         0                0                   0                       0                     1                            0                              0                                    0   \n",
       "3                 42           7882                           2                  4   45                  1                         2                                       0                            1                                                  0                                                               0                                                  0                                                       0                                                                        0                                                  1                                                        0                                               0                 0                  0                   0                            0                  0                            0                         1                0                   0                       0                     1                            0                              0                                    0   \n",
       "4                 24           4870                           3                  4   53                  2                         2                                       0                            1                                                  0                                                               0                                                  0                                                       0                                                                        1                                                  0                                                        0                                               0                 0                  1                   0                            0                  0                            0                         0                0                   0                       0                     1                            0                              0                                    0   \n",
       "\n",
       "   present_emp_since_.. >= 7 years  present_emp_since_... < 1 year   present_emp_since_1 <= ... < 4 years  present_emp_since_4 <= ... < 7 years  present_emp_since_unemployed  personal_status_sex_female : divorced/separated/married  personal_status_sex_male : divorced/separated  personal_status_sex_male : married/widowed  personal_status_sex_male : single  other_debtors_co-applicant  other_debtors_guarantor  other_debtors_none  property_if not A121 : building society savings agreement/ life insurance  property_if not A121/A122 : car or other, not in attribute 6  property_real estate  property_unknown / no property  other_installment_plans_bank  other_installment_plans_none  other_installment_plans_stores  housing_for free  housing_own  housing_rent  job_management/ self-employed/ highly qualified employee/ officer  job_skilled employee / official  job_unemployed/ unskilled - non-resident  job_unskilled - resident  telephone_none  telephone_yes, registered under the customers name   \\\n",
       "0                                1                                0                                     0                                     0                             0                                                  0                                                    0                                           0                                  1                           0                        0                   1                                                  0                                                                          0                                1                               0                             0                             1                               0                 0            1             0                                                  0                                                1                                         0                         0               0                                                  1     \n",
       "1                                0                                0                                     1                                     0                             0                                                  1                                                    0                                           0                                  0                           0                        0                   1                                                  0                                                                          0                                1                               0                             0                             1                               0                 0            1             0                                                  0                                                1                                         0                         0               1                                                  0     \n",
       "2                                0                                0                                     0                                     1                             0                                                  0                                                    0                                           0                                  1                           0                        0                   1                                                  0                                                                          0                                1                               0                             0                             1                               0                 0            1             0                                                  0                                                0                                         0                         1               1                                                  0     \n",
       "3                                0                                0                                     0                                     1                             0                                                  0                                                    0                                           0                                  1                           0                        1                   0                                                  1                                                                          0                                0                               0                             0                             1                               0                 1            0             0                                                  0                                                1                                         0                         0               1                                                  0     \n",
       "4                                0                                0                                     1                                     0                             0                                                  0                                                    0                                           0                                  1                           0                        0                   1                                                  0                                                                          0                                0                               1                             0                             1                               0                 1            0             0                                                  0                                                1                                         0                         0               1                                                  0     \n",
       "\n",
       "   foreign_worker_no  foreign_worker_yes  \n",
       "0                  0                   1  \n",
       "1                  0                   1  \n",
       "2                  0                   1  \n",
       "3                  0                   1  \n",
       "4                  0                   1  "
      ]
     },
     "execution_count": 4,
     "metadata": {},
     "output_type": "execute_result"
    }
   ],
   "source": [
    "data = pd.read_csv('./data/german_credit.csv')\n",
    "y = data['default']\n",
    "X_df = data.drop('default', axis=1)\n",
    "\n",
    "cats = [X_df.dtypes.index[i] for i in range(X_df.shape[1]) if X_df.dtypes[i]=='object']\n",
    "X_df = pd.get_dummies(X_df, columns=cats)\n",
    "\n",
    "X = X_df.values\n",
    "y = y.values\n",
    "\n",
    "X_df.head()"
   ]
  },
  {
   "cell_type": "code",
   "execution_count": 5,
   "metadata": {},
   "outputs": [
    {
     "data": {
      "text/plain": [
       "0.775"
      ]
     },
     "execution_count": 5,
     "metadata": {},
     "output_type": "execute_result"
    }
   ],
   "source": [
    "clf = RandomForestClassifier()\n",
    "X_train, X_test, y_train, y_test = train_test_split(X,y,test_size=0.4)\n",
    "clf.fit(X_train,y_train)\n",
    "clf.score(X_test,y_test)\n",
    "\n",
    "# logistic = SGDClassifier(loss='log', penalty='l1', early_stopping=True,\n",
    "#                          max_iter=10000, tol=1e-5, random_state=0)\n",
    "# sca = MinMaxScaler()\n",
    "# clf = Pipeline(steps=[('sca', sca), ('logistic', logistic)])\n",
    "# clf.fit(X,y)\n",
    "# clf.score(X,y)"
   ]
  },
  {
   "cell_type": "code",
   "execution_count": 6,
   "metadata": {},
   "outputs": [],
   "source": [
    "feature_names = list(X_df.columns)"
   ]
  },
  {
   "cell_type": "code",
   "execution_count": 7,
   "metadata": {},
   "outputs": [
    {
     "data": {
      "text/plain": [
       "{7: 4,\n",
       " 11: 5,\n",
       " 16: 10,\n",
       " 26: 5,\n",
       " 31: 5,\n",
       " 36: 4,\n",
       " 40: 3,\n",
       " 43: 4,\n",
       " 47: 3,\n",
       " 50: 3,\n",
       " 53: 4,\n",
       " 57: 2,\n",
       " 59: 2}"
      ]
     },
     "execution_count": 7,
     "metadata": {},
     "output_type": "execute_result"
    }
   ],
   "source": [
    "_, one_hot = create_onehot_map(feature_names, sep=\"_\", min_dist=1, data=None)\n",
    "one_hot"
   ]
  },
  {
   "cell_type": "code",
   "execution_count": 8,
   "metadata": {},
   "outputs": [
    {
     "data": {
      "text/plain": [
       "((600, 20), (600, 61))"
      ]
     },
     "execution_count": 8,
     "metadata": {},
     "output_type": "execute_result"
    }
   ],
   "source": [
    "data_ = alibi_ohe_to_ord(X_train, one_hot)[0]\n",
    "data_.shape, X_train.shape"
   ]
  },
  {
   "cell_type": "code",
   "execution_count": 9,
   "metadata": {},
   "outputs": [
    {
     "data": {
      "text/plain": [
       "array([ 4., 12., 18., 24., 72.])"
      ]
     },
     "execution_count": 9,
     "metadata": {},
     "output_type": "execute_result"
    }
   ],
   "source": [
    "np.quantile(data_[:,0], np.linspace(0,1,5))"
   ]
  },
  {
   "cell_type": "code",
   "execution_count": 10,
   "metadata": {},
   "outputs": [
    {
     "data": {
      "text/plain": [
       "(array([], dtype=int64),)"
      ]
     },
     "execution_count": 10,
     "metadata": {},
     "output_type": "execute_result"
    }
   ],
   "source": [
    "np.where(clf.predict(X_train)!=y_train)"
   ]
  },
  {
   "cell_type": "code",
   "execution_count": 11,
   "metadata": {},
   "outputs": [
    {
     "name": "stderr",
     "output_type": "stream",
     "text": [
      "100%|██████████████████████████████████████████████████████████████████████████████████| 10/10 [00:11<00:00,  1.11s/it]\n"
     ]
    },
    {
     "ename": "ImportError",
     "evalue": "Pandas requires version '3.0.0' or newer of 'jinja2' (version '2.11.3' currently installed).",
     "output_type": "error",
     "traceback": [
      "\u001b[1;31m---------------------------------------------------------------------------\u001b[0m",
      "\u001b[1;31mImportError\u001b[0m                               Traceback (most recent call last)",
      "\u001b[1;32mC:\\Users\\RHINES~1\\AppData\\Local\\Temp/ipykernel_5092/3157950887.py\u001b[0m in \u001b[0;36m<module>\u001b[1;34m\u001b[0m\n\u001b[0;32m      5\u001b[0m                  verbose=False, beta=.96)\n\u001b[0;32m      6\u001b[0m \u001b[1;33m\u001b[0m\u001b[0m\n\u001b[1;32m----> 7\u001b[1;33m \u001b[0mx_all\u001b[0m\u001b[1;33m,\u001b[0m \u001b[0mx_changes\u001b[0m\u001b[1;33m,\u001b[0m \u001b[0mx_sucess\u001b[0m \u001b[1;33m=\u001b[0m \u001b[0mga\u001b[0m\u001b[1;33m.\u001b[0m\u001b[0mattack\u001b[0m\u001b[1;33m(\u001b[0m\u001b[0mclf\u001b[0m\u001b[1;33m,\u001b[0m \u001b[0mx\u001b[0m\u001b[1;33m=\u001b[0m\u001b[0mX_train\u001b[0m\u001b[1;33m[\u001b[0m\u001b[0midx_test\u001b[0m\u001b[1;33m,\u001b[0m\u001b[1;33m:\u001b[0m\u001b[1;33m]\u001b[0m\u001b[1;33m,\u001b[0m\u001b[0mx_train\u001b[0m\u001b[1;33m=\u001b[0m\u001b[0mX_train\u001b[0m\u001b[1;33m)\u001b[0m\u001b[1;33m\u001b[0m\u001b[1;33m\u001b[0m\u001b[0m\n\u001b[0m",
      "\u001b[1;32m~\\Documents\\ISCTE\\Código Tese\\thesis_mcd\\models\\PermuteAttack-main\\src\\ga_attack.py\u001b[0m in \u001b[0;36mattack\u001b[1;34m(self, estimator, x, x_train)\u001b[0m\n\u001b[0;32m    415\u001b[0m                 ]\n\u001b[0;32m    416\u001b[0m \u001b[1;33m\u001b[0m\u001b[0m\n\u001b[1;32m--> 417\u001b[1;33m             \u001b[0mself\u001b[0m\u001b[1;33m.\u001b[0m\u001b[0mresults\u001b[0m \u001b[1;33m=\u001b[0m \u001b[0mself\u001b[0m\u001b[1;33m.\u001b[0m\u001b[0mresults\u001b[0m\u001b[1;33m.\u001b[0m\u001b[0mstyle\u001b[0m\u001b[1;33m.\u001b[0m\u001b[0mapply\u001b[0m\u001b[1;33m(\u001b[0m\u001b[0mhighlight_change\u001b[0m\u001b[1;33m)\u001b[0m\u001b[1;33m\u001b[0m\u001b[1;33m\u001b[0m\u001b[0m\n\u001b[0m\u001b[0;32m    418\u001b[0m \u001b[1;33m\u001b[0m\u001b[0m\n\u001b[0;32m    419\u001b[0m         \u001b[1;32mreturn\u001b[0m \u001b[0mx_all\u001b[0m\u001b[1;33m,\u001b[0m \u001b[0mx_changes\u001b[0m\u001b[1;33m,\u001b[0m \u001b[0mx_sucess\u001b[0m\u001b[1;33m\u001b[0m\u001b[1;33m\u001b[0m\u001b[0m\n",
      "\u001b[1;32m~\\AppData\\Roaming\\Python\\Python39\\site-packages\\pandas\\core\\frame.py\u001b[0m in \u001b[0;36mstyle\u001b[1;34m(self)\u001b[0m\n\u001b[0;32m   1262\u001b[0m             \u001b[0mdata\u001b[0m \u001b[1;32mwith\u001b[0m \u001b[0mHTML\u001b[0m \u001b[1;32mand\u001b[0m \u001b[0mCSS\u001b[0m\u001b[1;33m.\u001b[0m\u001b[1;33m\u001b[0m\u001b[1;33m\u001b[0m\u001b[0m\n\u001b[0;32m   1263\u001b[0m         \"\"\"\n\u001b[1;32m-> 1264\u001b[1;33m         \u001b[1;32mfrom\u001b[0m \u001b[0mpandas\u001b[0m\u001b[1;33m.\u001b[0m\u001b[0mio\u001b[0m\u001b[1;33m.\u001b[0m\u001b[0mformats\u001b[0m\u001b[1;33m.\u001b[0m\u001b[0mstyle\u001b[0m \u001b[1;32mimport\u001b[0m \u001b[0mStyler\u001b[0m\u001b[1;33m\u001b[0m\u001b[1;33m\u001b[0m\u001b[0m\n\u001b[0m\u001b[0;32m   1265\u001b[0m \u001b[1;33m\u001b[0m\u001b[0m\n\u001b[0;32m   1266\u001b[0m         \u001b[1;32mreturn\u001b[0m \u001b[0mStyler\u001b[0m\u001b[1;33m(\u001b[0m\u001b[0mself\u001b[0m\u001b[1;33m)\u001b[0m\u001b[1;33m\u001b[0m\u001b[1;33m\u001b[0m\u001b[0m\n",
      "\u001b[1;32m~\\AppData\\Roaming\\Python\\Python39\\site-packages\\pandas\\io\\formats\\style.py\u001b[0m in \u001b[0;36m<module>\u001b[1;34m\u001b[0m\n\u001b[0;32m     55\u001b[0m \u001b[1;32mfrom\u001b[0m \u001b[0mpandas\u001b[0m\u001b[1;33m.\u001b[0m\u001b[0mio\u001b[0m\u001b[1;33m.\u001b[0m\u001b[0mformats\u001b[0m\u001b[1;33m.\u001b[0m\u001b[0mformat\u001b[0m \u001b[1;32mimport\u001b[0m \u001b[0msave_to_buffer\u001b[0m\u001b[1;33m\u001b[0m\u001b[1;33m\u001b[0m\u001b[0m\n\u001b[0;32m     56\u001b[0m \u001b[1;33m\u001b[0m\u001b[0m\n\u001b[1;32m---> 57\u001b[1;33m \u001b[0mjinja2\u001b[0m \u001b[1;33m=\u001b[0m \u001b[0mimport_optional_dependency\u001b[0m\u001b[1;33m(\u001b[0m\u001b[1;34m\"jinja2\"\u001b[0m\u001b[1;33m,\u001b[0m \u001b[0mextra\u001b[0m\u001b[1;33m=\u001b[0m\u001b[1;34m\"DataFrame.style requires jinja2.\"\u001b[0m\u001b[1;33m)\u001b[0m\u001b[1;33m\u001b[0m\u001b[1;33m\u001b[0m\u001b[0m\n\u001b[0m\u001b[0;32m     58\u001b[0m \u001b[1;33m\u001b[0m\u001b[0m\n\u001b[0;32m     59\u001b[0m from pandas.io.formats.style_render import (\n",
      "\u001b[1;32m~\\AppData\\Roaming\\Python\\Python39\\site-packages\\pandas\\compat\\_optional.py\u001b[0m in \u001b[0;36mimport_optional_dependency\u001b[1;34m(name, extra, errors, min_version)\u001b[0m\n\u001b[0;32m    170\u001b[0m                 \u001b[1;32mreturn\u001b[0m \u001b[1;32mNone\u001b[0m\u001b[1;33m\u001b[0m\u001b[1;33m\u001b[0m\u001b[0m\n\u001b[0;32m    171\u001b[0m             \u001b[1;32melif\u001b[0m \u001b[0merrors\u001b[0m \u001b[1;33m==\u001b[0m \u001b[1;34m\"raise\"\u001b[0m\u001b[1;33m:\u001b[0m\u001b[1;33m\u001b[0m\u001b[1;33m\u001b[0m\u001b[0m\n\u001b[1;32m--> 172\u001b[1;33m                 \u001b[1;32mraise\u001b[0m \u001b[0mImportError\u001b[0m\u001b[1;33m(\u001b[0m\u001b[0mmsg\u001b[0m\u001b[1;33m)\u001b[0m\u001b[1;33m\u001b[0m\u001b[1;33m\u001b[0m\u001b[0m\n\u001b[0m\u001b[0;32m    173\u001b[0m \u001b[1;33m\u001b[0m\u001b[0m\n\u001b[0;32m    174\u001b[0m     \u001b[1;32mreturn\u001b[0m \u001b[0mmodule\u001b[0m\u001b[1;33m\u001b[0m\u001b[1;33m\u001b[0m\u001b[0m\n",
      "\u001b[1;31mImportError\u001b[0m: Pandas requires version '3.0.0' or newer of 'jinja2' (version '2.11.3' currently installed)."
     ]
    }
   ],
   "source": [
    "idx_test = 31\n",
    "ga = GAdvExample(feature_names=feature_names,\n",
    "                sol_per_pop=30, num_parents_mating=15, cat_vars_ohe=one_hot,\n",
    "                 num_generations=200, n_runs=10, black_list=None,\n",
    "                 verbose=False, beta=.96)\n",
    "\n",
    "x_all, x_changes, x_sucess = ga.attack(clf, x=X_train[idx_test,:],x_train=X_train)"
   ]
  },
  {
   "cell_type": "code",
   "execution_count": null,
   "metadata": {},
   "outputs": [],
   "source": [
    "ga.results"
   ]
  },
  {
   "cell_type": "code",
   "execution_count": null,
   "metadata": {},
   "outputs": [],
   "source": [
    "plot_graph(x_changes, 0)"
   ]
  },
  {
   "cell_type": "markdown",
   "metadata": {},
   "source": [
    "# Example without one-hot"
   ]
  },
  {
   "cell_type": "code",
   "execution_count": 12,
   "metadata": {},
   "outputs": [
    {
     "data": {
      "text/html": [
       "<div>\n",
       "<style scoped>\n",
       "    .dataframe tbody tr th:only-of-type {\n",
       "        vertical-align: middle;\n",
       "    }\n",
       "\n",
       "    .dataframe tbody tr th {\n",
       "        vertical-align: top;\n",
       "    }\n",
       "\n",
       "    .dataframe thead th {\n",
       "        text-align: right;\n",
       "    }\n",
       "</style>\n",
       "<table border=\"1\" class=\"dataframe\">\n",
       "  <thead>\n",
       "    <tr style=\"text-align: right;\">\n",
       "      <th></th>\n",
       "      <th>Survived</th>\n",
       "      <th>Pclass</th>\n",
       "      <th>Name</th>\n",
       "      <th>Sex</th>\n",
       "      <th>Age</th>\n",
       "      <th>Siblings/Spouses Aboard</th>\n",
       "      <th>Parents/Children Aboard</th>\n",
       "      <th>Fare</th>\n",
       "    </tr>\n",
       "  </thead>\n",
       "  <tbody>\n",
       "    <tr>\n",
       "      <th>0</th>\n",
       "      <td>0</td>\n",
       "      <td>3</td>\n",
       "      <td>Mr. Owen Harris Braund</td>\n",
       "      <td>male</td>\n",
       "      <td>22.0</td>\n",
       "      <td>1</td>\n",
       "      <td>0</td>\n",
       "      <td>7.2500</td>\n",
       "    </tr>\n",
       "    <tr>\n",
       "      <th>1</th>\n",
       "      <td>1</td>\n",
       "      <td>1</td>\n",
       "      <td>Mrs. John Bradley (Florence Briggs Thayer) Cum...</td>\n",
       "      <td>female</td>\n",
       "      <td>38.0</td>\n",
       "      <td>1</td>\n",
       "      <td>0</td>\n",
       "      <td>71.2833</td>\n",
       "    </tr>\n",
       "    <tr>\n",
       "      <th>2</th>\n",
       "      <td>1</td>\n",
       "      <td>3</td>\n",
       "      <td>Miss. Laina Heikkinen</td>\n",
       "      <td>female</td>\n",
       "      <td>26.0</td>\n",
       "      <td>0</td>\n",
       "      <td>0</td>\n",
       "      <td>7.9250</td>\n",
       "    </tr>\n",
       "    <tr>\n",
       "      <th>3</th>\n",
       "      <td>1</td>\n",
       "      <td>1</td>\n",
       "      <td>Mrs. Jacques Heath (Lily May Peel) Futrelle</td>\n",
       "      <td>female</td>\n",
       "      <td>35.0</td>\n",
       "      <td>1</td>\n",
       "      <td>0</td>\n",
       "      <td>53.1000</td>\n",
       "    </tr>\n",
       "    <tr>\n",
       "      <th>4</th>\n",
       "      <td>0</td>\n",
       "      <td>3</td>\n",
       "      <td>Mr. William Henry Allen</td>\n",
       "      <td>male</td>\n",
       "      <td>35.0</td>\n",
       "      <td>0</td>\n",
       "      <td>0</td>\n",
       "      <td>8.0500</td>\n",
       "    </tr>\n",
       "  </tbody>\n",
       "</table>\n",
       "</div>"
      ],
      "text/plain": [
       "   Survived  Pclass                                               Name     Sex   Age  Siblings/Spouses Aboard  Parents/Children Aboard     Fare\n",
       "0         0       3                             Mr. Owen Harris Braund    male  22.0                        1                        0   7.2500\n",
       "1         1       1  Mrs. John Bradley (Florence Briggs Thayer) Cum...  female  38.0                        1                        0  71.2833\n",
       "2         1       3                              Miss. Laina Heikkinen  female  26.0                        0                        0   7.9250\n",
       "3         1       1        Mrs. Jacques Heath (Lily May Peel) Futrelle  female  35.0                        1                        0  53.1000\n",
       "4         0       3                            Mr. William Henry Allen    male  35.0                        0                        0   8.0500"
      ]
     },
     "execution_count": 12,
     "metadata": {},
     "output_type": "execute_result"
    }
   ],
   "source": [
    "data = pd.read_csv('./data/titanic.csv')\n",
    "data.head()"
   ]
  },
  {
   "cell_type": "code",
   "execution_count": 13,
   "metadata": {},
   "outputs": [
    {
     "name": "stdout",
     "output_type": "stream",
     "text": [
      "Sex  .....    ['female' 'male']\n"
     ]
    }
   ],
   "source": [
    "# from sklearn.datasets import load_breast_cancer\n",
    "# X,y = load_breast_cancer(True)\n",
    "# data = data.drop(['Name','Ticket','Cabin','Embarked','PassengerId'],axis=1)\n",
    "\n",
    "data = data.drop(['Name'], axis=1)\n",
    "data = data.dropna()\n",
    "X_df = data.drop(['Survived'],axis=1)\n",
    "y = data['Survived']\n",
    "\n",
    "for d in X_df.columns[X_df.dtypes=='O']:\n",
    "    le = LabelEncoder()    \n",
    "    X_df[d] = le.fit_transform(X_df[d])\n",
    "    print(d,\" .....   \",le.classes_)\n",
    "\n",
    "X = X_df.values\n",
    "y = y.values"
   ]
  },
  {
   "cell_type": "code",
   "execution_count": 16,
   "metadata": {},
   "outputs": [],
   "source": [
    "X_train, X_test, y_train, y_test = train_test_split(X,y)"
   ]
  },
  {
   "cell_type": "code",
   "execution_count": 17,
   "metadata": {},
   "outputs": [],
   "source": [
    "clf_titanic = RandomForestClassifier(n_estimators=10).fit(X_train, y_train)"
   ]
  },
  {
   "cell_type": "code",
   "execution_count": 18,
   "metadata": {},
   "outputs": [
    {
     "name": "stderr",
     "output_type": "stream",
     "text": [
      "100%|███████████████████████████████████████████| 10/10 [00:00<00:00, 51.79it/s]\n"
     ]
    }
   ],
   "source": [
    "idx_test = 0\n",
    "\n",
    "ga_titanic = GAdvExample(feature_names=list(X_df.columns),\n",
    "                sol_per_pop=30, num_parents_mating=10, cat_vars_ohe=None,\n",
    "                 num_generations=100, n_runs=10, black_list=[],\n",
    "                 verbose=False, beta=.95)\n",
    "\n",
    "x_all, x_changes, x_sucess = ga_titanic.attack(clf_titanic, x=X_test[idx_test,:],x_train=X_train)"
   ]
  },
  {
   "cell_type": "code",
   "execution_count": 19,
   "metadata": {},
   "outputs": [
    {
     "data": {
      "text/html": [
       "<style type=\"text/css\">\n",
       "#T_43169_row1_col0, #T_43169_row1_col6, #T_43169_row1_col7, #T_43169_row2_col4, #T_43169_row2_col6, #T_43169_row2_col7, #T_43169_row3_col0, #T_43169_row3_col6, #T_43169_row3_col7, #T_43169_row4_col4, #T_43169_row4_col6, #T_43169_row4_col7 {\n",
       "  background-color: darkorange;\n",
       "}\n",
       "</style>\n",
       "<table id=\"T_43169_\">\n",
       "  <thead>\n",
       "    <tr>\n",
       "      <th class=\"blank level0\" >&nbsp;</th>\n",
       "      <th class=\"col_heading level0 col0\" >Pclass</th>\n",
       "      <th class=\"col_heading level0 col1\" >Sex</th>\n",
       "      <th class=\"col_heading level0 col2\" >Age</th>\n",
       "      <th class=\"col_heading level0 col3\" >Siblings/Spouses Aboard</th>\n",
       "      <th class=\"col_heading level0 col4\" >Parents/Children Aboard</th>\n",
       "      <th class=\"col_heading level0 col5\" >Fare</th>\n",
       "      <th class=\"col_heading level0 col6\" >P0</th>\n",
       "      <th class=\"col_heading level0 col7\" >P1</th>\n",
       "    </tr>\n",
       "  </thead>\n",
       "  <tbody>\n",
       "    <tr>\n",
       "      <th id=\"T_43169_level0_row0\" class=\"row_heading level0 row0\" >0</th>\n",
       "      <td id=\"T_43169_row0_col0\" class=\"data row0 col0\" >3.000000</td>\n",
       "      <td id=\"T_43169_row0_col1\" class=\"data row0 col1\" >0.000000</td>\n",
       "      <td id=\"T_43169_row0_col2\" class=\"data row0 col2\" >18.000000</td>\n",
       "      <td id=\"T_43169_row0_col3\" class=\"data row0 col3\" >0.000000</td>\n",
       "      <td id=\"T_43169_row0_col4\" class=\"data row0 col4\" >0.000000</td>\n",
       "      <td id=\"T_43169_row0_col5\" class=\"data row0 col5\" >9.841700</td>\n",
       "      <td id=\"T_43169_row0_col6\" class=\"data row0 col6\" >0.900000</td>\n",
       "      <td id=\"T_43169_row0_col7\" class=\"data row0 col7\" >0.100000</td>\n",
       "    </tr>\n",
       "    <tr>\n",
       "      <th id=\"T_43169_level0_row1\" class=\"row_heading level0 row1\" >1</th>\n",
       "      <td id=\"T_43169_row1_col0\" class=\"data row1 col0\" >2.000000</td>\n",
       "      <td id=\"T_43169_row1_col1\" class=\"data row1 col1\" >0.000000</td>\n",
       "      <td id=\"T_43169_row1_col2\" class=\"data row1 col2\" >18.000000</td>\n",
       "      <td id=\"T_43169_row1_col3\" class=\"data row1 col3\" >0.000000</td>\n",
       "      <td id=\"T_43169_row1_col4\" class=\"data row1 col4\" >0.000000</td>\n",
       "      <td id=\"T_43169_row1_col5\" class=\"data row1 col5\" >9.841700</td>\n",
       "      <td id=\"T_43169_row1_col6\" class=\"data row1 col6\" >0.200000</td>\n",
       "      <td id=\"T_43169_row1_col7\" class=\"data row1 col7\" >0.800000</td>\n",
       "    </tr>\n",
       "    <tr>\n",
       "      <th id=\"T_43169_level0_row2\" class=\"row_heading level0 row2\" >2</th>\n",
       "      <td id=\"T_43169_row2_col0\" class=\"data row2 col0\" >3.000000</td>\n",
       "      <td id=\"T_43169_row2_col1\" class=\"data row2 col1\" >0.000000</td>\n",
       "      <td id=\"T_43169_row2_col2\" class=\"data row2 col2\" >18.000000</td>\n",
       "      <td id=\"T_43169_row2_col3\" class=\"data row2 col3\" >0.000000</td>\n",
       "      <td id=\"T_43169_row2_col4\" class=\"data row2 col4\" >1.000000</td>\n",
       "      <td id=\"T_43169_row2_col5\" class=\"data row2 col5\" >9.841700</td>\n",
       "      <td id=\"T_43169_row2_col6\" class=\"data row2 col6\" >0.300000</td>\n",
       "      <td id=\"T_43169_row2_col7\" class=\"data row2 col7\" >0.700000</td>\n",
       "    </tr>\n",
       "    <tr>\n",
       "      <th id=\"T_43169_level0_row3\" class=\"row_heading level0 row3\" >4</th>\n",
       "      <td id=\"T_43169_row3_col0\" class=\"data row3 col0\" >1.000000</td>\n",
       "      <td id=\"T_43169_row3_col1\" class=\"data row3 col1\" >0.000000</td>\n",
       "      <td id=\"T_43169_row3_col2\" class=\"data row3 col2\" >18.000000</td>\n",
       "      <td id=\"T_43169_row3_col3\" class=\"data row3 col3\" >0.000000</td>\n",
       "      <td id=\"T_43169_row3_col4\" class=\"data row3 col4\" >0.000000</td>\n",
       "      <td id=\"T_43169_row3_col5\" class=\"data row3 col5\" >9.841700</td>\n",
       "      <td id=\"T_43169_row3_col6\" class=\"data row3 col6\" >0.200000</td>\n",
       "      <td id=\"T_43169_row3_col7\" class=\"data row3 col7\" >0.800000</td>\n",
       "    </tr>\n",
       "    <tr>\n",
       "      <th id=\"T_43169_level0_row4\" class=\"row_heading level0 row4\" >9</th>\n",
       "      <td id=\"T_43169_row4_col0\" class=\"data row4 col0\" >3.000000</td>\n",
       "      <td id=\"T_43169_row4_col1\" class=\"data row4 col1\" >0.000000</td>\n",
       "      <td id=\"T_43169_row4_col2\" class=\"data row4 col2\" >18.000000</td>\n",
       "      <td id=\"T_43169_row4_col3\" class=\"data row4 col3\" >0.000000</td>\n",
       "      <td id=\"T_43169_row4_col4\" class=\"data row4 col4\" >2.000000</td>\n",
       "      <td id=\"T_43169_row4_col5\" class=\"data row4 col5\" >9.841700</td>\n",
       "      <td id=\"T_43169_row4_col6\" class=\"data row4 col6\" >0.200000</td>\n",
       "      <td id=\"T_43169_row4_col7\" class=\"data row4 col7\" >0.800000</td>\n",
       "    </tr>\n",
       "  </tbody>\n",
       "</table>\n"
      ],
      "text/plain": [
       "<pandas.io.formats.style.Styler at 0x7f60196cb220>"
      ]
     },
     "execution_count": 19,
     "metadata": {},
     "output_type": "execute_result"
    }
   ],
   "source": [
    "ga_titanic.results"
   ]
  },
  {
   "cell_type": "code",
   "execution_count": 20,
   "metadata": {},
   "outputs": [
    {
     "name": "stdout",
     "output_type": "stream",
     "text": [
      "No edges exist!\n"
     ]
    }
   ],
   "source": [
    "plot_graph(x_changes, 0)"
   ]
  },
  {
   "cell_type": "code",
   "execution_count": 21,
   "metadata": {},
   "outputs": [
    {
     "data": {
      "text/html": [
       "<div>\n",
       "<style scoped>\n",
       "    .dataframe tbody tr th:only-of-type {\n",
       "        vertical-align: middle;\n",
       "    }\n",
       "\n",
       "    .dataframe tbody tr th {\n",
       "        vertical-align: top;\n",
       "    }\n",
       "\n",
       "    .dataframe thead th {\n",
       "        text-align: right;\n",
       "    }\n",
       "</style>\n",
       "<table border=\"1\" class=\"dataframe\">\n",
       "  <thead>\n",
       "    <tr style=\"text-align: right;\">\n",
       "      <th></th>\n",
       "      <th>Pclass</th>\n",
       "      <th>Sex</th>\n",
       "      <th>Age</th>\n",
       "      <th>Siblings/Spouses Aboard</th>\n",
       "      <th>Parents/Children Aboard</th>\n",
       "      <th>Fare</th>\n",
       "    </tr>\n",
       "  </thead>\n",
       "  <tbody>\n",
       "    <tr>\n",
       "      <th>0</th>\n",
       "      <td>1.0</td>\n",
       "      <td>0.0</td>\n",
       "      <td>0.0</td>\n",
       "      <td>0.0</td>\n",
       "      <td>0.0</td>\n",
       "      <td>0.0</td>\n",
       "    </tr>\n",
       "    <tr>\n",
       "      <th>1</th>\n",
       "      <td>0.0</td>\n",
       "      <td>0.0</td>\n",
       "      <td>0.0</td>\n",
       "      <td>0.0</td>\n",
       "      <td>-1.0</td>\n",
       "      <td>0.0</td>\n",
       "    </tr>\n",
       "    <tr>\n",
       "      <th>2</th>\n",
       "      <td>1.0</td>\n",
       "      <td>0.0</td>\n",
       "      <td>0.0</td>\n",
       "      <td>0.0</td>\n",
       "      <td>0.0</td>\n",
       "      <td>0.0</td>\n",
       "    </tr>\n",
       "    <tr>\n",
       "      <th>3</th>\n",
       "      <td>2.0</td>\n",
       "      <td>0.0</td>\n",
       "      <td>0.0</td>\n",
       "      <td>0.0</td>\n",
       "      <td>0.0</td>\n",
       "      <td>0.0</td>\n",
       "    </tr>\n",
       "    <tr>\n",
       "      <th>4</th>\n",
       "      <td>1.0</td>\n",
       "      <td>0.0</td>\n",
       "      <td>0.0</td>\n",
       "      <td>0.0</td>\n",
       "      <td>0.0</td>\n",
       "      <td>0.0</td>\n",
       "    </tr>\n",
       "    <tr>\n",
       "      <th>5</th>\n",
       "      <td>0.0</td>\n",
       "      <td>0.0</td>\n",
       "      <td>0.0</td>\n",
       "      <td>0.0</td>\n",
       "      <td>-1.0</td>\n",
       "      <td>0.0</td>\n",
       "    </tr>\n",
       "    <tr>\n",
       "      <th>6</th>\n",
       "      <td>1.0</td>\n",
       "      <td>0.0</td>\n",
       "      <td>0.0</td>\n",
       "      <td>0.0</td>\n",
       "      <td>0.0</td>\n",
       "      <td>0.0</td>\n",
       "    </tr>\n",
       "    <tr>\n",
       "      <th>7</th>\n",
       "      <td>0.0</td>\n",
       "      <td>0.0</td>\n",
       "      <td>0.0</td>\n",
       "      <td>0.0</td>\n",
       "      <td>-1.0</td>\n",
       "      <td>0.0</td>\n",
       "    </tr>\n",
       "    <tr>\n",
       "      <th>8</th>\n",
       "      <td>0.0</td>\n",
       "      <td>0.0</td>\n",
       "      <td>0.0</td>\n",
       "      <td>0.0</td>\n",
       "      <td>-2.0</td>\n",
       "      <td>0.0</td>\n",
       "    </tr>\n",
       "    <tr>\n",
       "      <th>9</th>\n",
       "      <td>1.0</td>\n",
       "      <td>0.0</td>\n",
       "      <td>0.0</td>\n",
       "      <td>0.0</td>\n",
       "      <td>0.0</td>\n",
       "      <td>0.0</td>\n",
       "    </tr>\n",
       "  </tbody>\n",
       "</table>\n",
       "</div>"
      ],
      "text/plain": [
       "   Pclass  Sex  Age  Siblings/Spouses Aboard  Parents/Children Aboard  Fare\n",
       "0     1.0  0.0  0.0                      0.0                      0.0   0.0\n",
       "1     0.0  0.0  0.0                      0.0                     -1.0   0.0\n",
       "2     1.0  0.0  0.0                      0.0                      0.0   0.0\n",
       "3     2.0  0.0  0.0                      0.0                      0.0   0.0\n",
       "4     1.0  0.0  0.0                      0.0                      0.0   0.0\n",
       "5     0.0  0.0  0.0                      0.0                     -1.0   0.0\n",
       "6     1.0  0.0  0.0                      0.0                      0.0   0.0\n",
       "7     0.0  0.0  0.0                      0.0                     -1.0   0.0\n",
       "8     0.0  0.0  0.0                      0.0                     -2.0   0.0\n",
       "9     1.0  0.0  0.0                      0.0                      0.0   0.0"
      ]
     },
     "execution_count": 21,
     "metadata": {},
     "output_type": "execute_result"
    }
   ],
   "source": [
    "x_changes"
   ]
  },
  {
   "cell_type": "markdown",
   "metadata": {},
   "source": [
    "# IRIS"
   ]
  },
  {
   "cell_type": "code",
   "execution_count": 22,
   "metadata": {},
   "outputs": [
    {
     "data": {
      "text/plain": [
       "array([0, 1, 2])"
      ]
     },
     "execution_count": 22,
     "metadata": {},
     "output_type": "execute_result"
    }
   ],
   "source": [
    "import numpy as np\n",
    "from sklearn import datasets\n",
    "iris_X, iris_y = datasets.load_iris(return_X_y=True)\n",
    "np.unique(iris_y)"
   ]
  },
  {
   "cell_type": "code",
   "execution_count": 23,
   "metadata": {},
   "outputs": [],
   "source": [
    "names = datasets.load_iris().feature_names"
   ]
  },
  {
   "cell_type": "code",
   "execution_count": 24,
   "metadata": {},
   "outputs": [
    {
     "data": {
      "text/plain": [
       "KNeighborsClassifier()"
      ]
     },
     "execution_count": 24,
     "metadata": {},
     "output_type": "execute_result"
    }
   ],
   "source": [
    "np.random.seed(0)\n",
    "indices = np.random.permutation(len(iris_X))\n",
    "X_train = iris_X[indices[:-10]]\n",
    "y_train = iris_y[indices[:-10]]\n",
    "X_test = iris_X[indices[-10:]]\n",
    "y_test = iris_y[indices[-10:]]\n",
    "\n",
    "from sklearn.neighbors import KNeighborsClassifier\n",
    "knn = KNeighborsClassifier()\n",
    "knn.fit(X_train, y_train)"
   ]
  },
  {
   "cell_type": "code",
   "execution_count": 25,
   "metadata": {},
   "outputs": [
    {
     "data": {
      "text/html": [
       "<div>\n",
       "<style scoped>\n",
       "    .dataframe tbody tr th:only-of-type {\n",
       "        vertical-align: middle;\n",
       "    }\n",
       "\n",
       "    .dataframe tbody tr th {\n",
       "        vertical-align: top;\n",
       "    }\n",
       "\n",
       "    .dataframe thead th {\n",
       "        text-align: right;\n",
       "    }\n",
       "</style>\n",
       "<table border=\"1\" class=\"dataframe\">\n",
       "  <thead>\n",
       "    <tr style=\"text-align: right;\">\n",
       "      <th>col_0</th>\n",
       "      <th>0</th>\n",
       "      <th>1</th>\n",
       "      <th>2</th>\n",
       "    </tr>\n",
       "    <tr>\n",
       "      <th>row_0</th>\n",
       "      <th></th>\n",
       "      <th></th>\n",
       "      <th></th>\n",
       "    </tr>\n",
       "  </thead>\n",
       "  <tbody>\n",
       "    <tr>\n",
       "      <th>0</th>\n",
       "      <td>46</td>\n",
       "      <td>0</td>\n",
       "      <td>0</td>\n",
       "    </tr>\n",
       "    <tr>\n",
       "      <th>1</th>\n",
       "      <td>0</td>\n",
       "      <td>44</td>\n",
       "      <td>2</td>\n",
       "    </tr>\n",
       "    <tr>\n",
       "      <th>2</th>\n",
       "      <td>0</td>\n",
       "      <td>2</td>\n",
       "      <td>46</td>\n",
       "    </tr>\n",
       "  </tbody>\n",
       "</table>\n",
       "</div>"
      ],
      "text/plain": [
       "col_0   0   1   2\n",
       "row_0            \n",
       "0      46   0   0\n",
       "1       0  44   2\n",
       "2       0   2  46"
      ]
     },
     "execution_count": 25,
     "metadata": {},
     "output_type": "execute_result"
    }
   ],
   "source": [
    "pd.crosstab(knn.predict(X_train),y_train)"
   ]
  },
  {
   "cell_type": "code",
   "execution_count": 26,
   "metadata": {},
   "outputs": [
    {
     "data": {
      "text/plain": [
       "((array([ 37,  48,  56, 132]),), array([1, 2, 2, 1]))"
      ]
     },
     "execution_count": 26,
     "metadata": {},
     "output_type": "execute_result"
    }
   ],
   "source": [
    "inds = np.where(knn.predict(X_train) !=y_train)\n",
    "inds, y_train[inds]"
   ]
  },
  {
   "cell_type": "code",
   "execution_count": 27,
   "metadata": {},
   "outputs": [
    {
     "name": "stderr",
     "output_type": "stream",
     "text": [
      "100%|███████████████████████████████████████████| 10/10 [00:00<00:00, 89.64it/s]\n"
     ]
    }
   ],
   "source": [
    "idx_test = 37\n",
    "\n",
    "ga_iris = GAdvExample(feature_names=names, target=None,\n",
    "                sol_per_pop=30, num_parents_mating=10, cat_vars_ohe=None,\n",
    "                 num_generations=100, n_runs=10, black_list=[0,2],\n",
    "                 verbose=False, beta=.95)\n",
    "\n",
    "x_all, x_changes, x_sucess = ga_iris.attack(knn, x=X_train[idx_test,:],x_train=X_train)"
   ]
  },
  {
   "cell_type": "code",
   "execution_count": 28,
   "metadata": {},
   "outputs": [
    {
     "data": {
      "text/html": [
       "<style type=\"text/css\">\n",
       "#T_ebbb6_row1_col3, #T_ebbb6_row1_col5, #T_ebbb6_row1_col6, #T_ebbb6_row2_col3, #T_ebbb6_row2_col5, #T_ebbb6_row2_col6, #T_ebbb6_row3_col3, #T_ebbb6_row3_col5, #T_ebbb6_row3_col6, #T_ebbb6_row4_col3, #T_ebbb6_row4_col5, #T_ebbb6_row4_col6 {\n",
       "  background-color: darkorange;\n",
       "}\n",
       "</style>\n",
       "<table id=\"T_ebbb6_\">\n",
       "  <thead>\n",
       "    <tr>\n",
       "      <th class=\"blank level0\" >&nbsp;</th>\n",
       "      <th class=\"col_heading level0 col0\" >sepal length (cm)</th>\n",
       "      <th class=\"col_heading level0 col1\" >sepal width (cm)</th>\n",
       "      <th class=\"col_heading level0 col2\" >petal length (cm)</th>\n",
       "      <th class=\"col_heading level0 col3\" >petal width (cm)</th>\n",
       "      <th class=\"col_heading level0 col4\" >P0</th>\n",
       "      <th class=\"col_heading level0 col5\" >P1</th>\n",
       "      <th class=\"col_heading level0 col6\" >P2</th>\n",
       "    </tr>\n",
       "  </thead>\n",
       "  <tbody>\n",
       "    <tr>\n",
       "      <th id=\"T_ebbb6_level0_row0\" class=\"row_heading level0 row0\" >0</th>\n",
       "      <td id=\"T_ebbb6_row0_col0\" class=\"data row0 col0\" >6.000000</td>\n",
       "      <td id=\"T_ebbb6_row0_col1\" class=\"data row0 col1\" >2.700000</td>\n",
       "      <td id=\"T_ebbb6_row0_col2\" class=\"data row0 col2\" >5.100000</td>\n",
       "      <td id=\"T_ebbb6_row0_col3\" class=\"data row0 col3\" >1.600000</td>\n",
       "      <td id=\"T_ebbb6_row0_col4\" class=\"data row0 col4\" >0.000000</td>\n",
       "      <td id=\"T_ebbb6_row0_col5\" class=\"data row0 col5\" >0.200000</td>\n",
       "      <td id=\"T_ebbb6_row0_col6\" class=\"data row0 col6\" >0.800000</td>\n",
       "    </tr>\n",
       "    <tr>\n",
       "      <th id=\"T_ebbb6_level0_row1\" class=\"row_heading level0 row1\" >1</th>\n",
       "      <td id=\"T_ebbb6_row1_col0\" class=\"data row1 col0\" >6.000000</td>\n",
       "      <td id=\"T_ebbb6_row1_col1\" class=\"data row1 col1\" >2.700000</td>\n",
       "      <td id=\"T_ebbb6_row1_col2\" class=\"data row1 col2\" >5.100000</td>\n",
       "      <td id=\"T_ebbb6_row1_col3\" class=\"data row1 col3\" >1.300000</td>\n",
       "      <td id=\"T_ebbb6_row1_col4\" class=\"data row1 col4\" >0.000000</td>\n",
       "      <td id=\"T_ebbb6_row1_col5\" class=\"data row1 col5\" >0.800000</td>\n",
       "      <td id=\"T_ebbb6_row1_col6\" class=\"data row1 col6\" >0.200000</td>\n",
       "    </tr>\n",
       "    <tr>\n",
       "      <th id=\"T_ebbb6_level0_row2\" class=\"row_heading level0 row2\" >2</th>\n",
       "      <td id=\"T_ebbb6_row2_col0\" class=\"data row2 col0\" >6.000000</td>\n",
       "      <td id=\"T_ebbb6_row2_col1\" class=\"data row2 col1\" >2.700000</td>\n",
       "      <td id=\"T_ebbb6_row2_col2\" class=\"data row2 col2\" >5.100000</td>\n",
       "      <td id=\"T_ebbb6_row2_col3\" class=\"data row2 col3\" >1.000000</td>\n",
       "      <td id=\"T_ebbb6_row2_col4\" class=\"data row2 col4\" >0.000000</td>\n",
       "      <td id=\"T_ebbb6_row2_col5\" class=\"data row2 col5\" >0.800000</td>\n",
       "      <td id=\"T_ebbb6_row2_col6\" class=\"data row2 col6\" >0.200000</td>\n",
       "    </tr>\n",
       "    <tr>\n",
       "      <th id=\"T_ebbb6_level0_row3\" class=\"row_heading level0 row3\" >4</th>\n",
       "      <td id=\"T_ebbb6_row3_col0\" class=\"data row3 col0\" >6.000000</td>\n",
       "      <td id=\"T_ebbb6_row3_col1\" class=\"data row3 col1\" >2.700000</td>\n",
       "      <td id=\"T_ebbb6_row3_col2\" class=\"data row3 col2\" >5.100000</td>\n",
       "      <td id=\"T_ebbb6_row3_col3\" class=\"data row3 col3\" >1.200000</td>\n",
       "      <td id=\"T_ebbb6_row3_col4\" class=\"data row3 col4\" >0.000000</td>\n",
       "      <td id=\"T_ebbb6_row3_col5\" class=\"data row3 col5\" >0.800000</td>\n",
       "      <td id=\"T_ebbb6_row3_col6\" class=\"data row3 col6\" >0.200000</td>\n",
       "    </tr>\n",
       "    <tr>\n",
       "      <th id=\"T_ebbb6_level0_row4\" class=\"row_heading level0 row4\" >9</th>\n",
       "      <td id=\"T_ebbb6_row4_col0\" class=\"data row4 col0\" >6.000000</td>\n",
       "      <td id=\"T_ebbb6_row4_col1\" class=\"data row4 col1\" >2.700000</td>\n",
       "      <td id=\"T_ebbb6_row4_col2\" class=\"data row4 col2\" >5.100000</td>\n",
       "      <td id=\"T_ebbb6_row4_col3\" class=\"data row4 col3\" >1.400000</td>\n",
       "      <td id=\"T_ebbb6_row4_col4\" class=\"data row4 col4\" >0.000000</td>\n",
       "      <td id=\"T_ebbb6_row4_col5\" class=\"data row4 col5\" >0.800000</td>\n",
       "      <td id=\"T_ebbb6_row4_col6\" class=\"data row4 col6\" >0.200000</td>\n",
       "    </tr>\n",
       "  </tbody>\n",
       "</table>\n"
      ],
      "text/plain": [
       "<pandas.io.formats.style.Styler at 0x7f601963cd90>"
      ]
     },
     "execution_count": 28,
     "metadata": {},
     "output_type": "execute_result"
    }
   ],
   "source": [
    "ga_iris.results"
   ]
  },
  {
   "cell_type": "code",
   "execution_count": 29,
   "metadata": {},
   "outputs": [
    {
     "name": "stdout",
     "output_type": "stream",
     "text": [
      "No edges exist!\n"
     ]
    }
   ],
   "source": [
    "plot_graph(x_changes, 0, False)"
   ]
  }
 ],
 "metadata": {
  "kernelspec": {
   "display_name": "Python 3 (ipykernel)",
   "language": "python",
   "name": "python3"
  },
  "language_info": {
   "codemirror_mode": {
    "name": "ipython",
    "version": 3
   },
   "file_extension": ".py",
   "mimetype": "text/x-python",
   "name": "python",
   "nbconvert_exporter": "python",
   "pygments_lexer": "ipython3",
   "version": "3.9.7"
  }
 },
 "nbformat": 4,
 "nbformat_minor": 4
}
